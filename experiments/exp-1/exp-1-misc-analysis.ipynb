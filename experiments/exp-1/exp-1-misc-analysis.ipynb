{
 "cells": [
  {
   "cell_type": "code",
   "execution_count": 55,
   "metadata": {},
   "outputs": [],
   "source": [
    "%load_ext rpy2.ipython"
   ]
  },
  {
   "cell_type": "code",
   "execution_count": 56,
   "metadata": {},
   "outputs": [
    {
     "name": "stderr",
     "output_type": "stream",
     "text": [
      "R[write to console]: Loading required package: zoo\n",
      "\n",
      "R[write to console]: \n",
      "Attaching package: ‘zoo’\n",
      "\n",
      "\n",
      "R[write to console]: The following objects are masked from ‘package:base’:\n",
      "\n",
      "    as.Date, as.Date.numeric\n",
      "\n",
      "\n"
     ]
    }
   ],
   "source": [
    "%%R\n",
    "library(lmtest)"
   ]
  },
  {
   "cell_type": "code",
   "execution_count": 57,
   "metadata": {},
   "outputs": [
    {
     "name": "stderr",
     "output_type": "stream",
     "text": [
      "R[write to console]: Loading required package: Matrix\n",
      "\n",
      "R[write to console]: \n",
      "Attaching package: ‘lmerTest’\n",
      "\n",
      "\n",
      "R[write to console]: The following object is masked from ‘package:lme4’:\n",
      "\n",
      "    lmer\n",
      "\n",
      "\n",
      "R[write to console]: The following object is masked from ‘package:stats’:\n",
      "\n",
      "    step\n",
      "\n",
      "\n"
     ]
    }
   ],
   "source": [
    "%%R\n",
    "library(lme4)\n",
    "library(lmerTest)"
   ]
  },
  {
   "cell_type": "code",
   "execution_count": null,
   "metadata": {},
   "outputs": [],
   "source": [
    "import random\n",
    "\n",
    "import numpy as np\n",
    "import pandas as pd\n",
    "import seaborn as sns\n",
    "\n",
    "from construal_shifting.task_modeling.model_fitter import ModelFitter\n",
    "from construal_shifting.task_modeling.participant_model import ParticipantModel\n",
    "\n",
    "from data_analysis import download_data, download_condition_counts, calc_condition_counts, ExperimentDataLoader\n"
   ]
  },
  {
   "cell_type": "code",
   "execution_count": 2,
   "metadata": {},
   "outputs": [],
   "source": [
    "exp_data = ExperimentDataLoader(\n",
    "    trialdata_file=\"rawtrialdata-anon.csv\"\n",
    ")\n",
    "summary_df = pd.read_json('./data/summary_df.json')\n",
    "all_participant_data = [p for p in exp_data.completed_participant_data() if p.sessionId in summary_df.sessionId.values]"
   ]
  },
  {
   "attachments": {},
   "cell_type": "markdown",
   "metadata": {},
   "source": [
    "## Did gain from taking a notch make it more likely to take it?"
   ]
  },
  {
   "cell_type": "code",
   "execution_count": 41,
   "metadata": {},
   "outputs": [
    {
     "name": "stderr",
     "output_type": "stream",
     "text": [
      "  0%|          | 0/377 [00:00<?, ?it/s]/Users/markho/Dropbox/Cog-Sci-Research/Projects-active/construal-shifting-public/env37/lib/python3.7/site-packages/msdm/algorithms/policyiteration.py:41: UserWarning: MDP contains states that never reach an absorbing state. Values for these states will be set using self.undefined_value=0\n",
      "  f\"Values for these states will be set using self.undefined_value={self.undefined_value}\"\n",
      "100%|██████████| 377/377 [01:02<00:00,  6.00it/s]\n"
     ]
    }
   ],
   "source": [
    "from tqdm import tqdm\n",
    "from msdm.algorithms import PolicyIteration\n",
    "from construal_shifting.fastgridworld import GridWorld2 as GridWorld\n",
    "\n",
    "gw_params = dict(\n",
    "    step_cost=-1,\n",
    "    discount_rate=1,\n",
    ")\n",
    "\n",
    "notch_gain_stats = []\n",
    "\n",
    "for p in tqdm(all_participant_data):\n",
    "    for t in p.test_trials():\n",
    "        notch_gw = GridWorld(**{\n",
    "            **t.invtransformed_GridWorld_params,\n",
    "            **gw_params,\n",
    "            'wall_features': \"#ABCDEFG\",\n",
    "        })\n",
    "        block_gw = GridWorld(**{\n",
    "            **t.invtransformed_GridWorld_params,\n",
    "            **gw_params,\n",
    "            'wall_features': \"#ABCDEFGabcdefg\",\n",
    "        })\n",
    "        notch_plan = PolicyIteration().plan_on(notch_gw)\n",
    "        block_plan = PolicyIteration().plan_on(block_gw)\n",
    "        notch_gain = notch_plan.initial_value - block_plan.initial_value\n",
    "        notch_gain_stats.append({\n",
    "            'sessionId': p.sessionId,\n",
    "            'trial_index': t.trial_index,\n",
    "            'notch_gain': notch_gain,\n",
    "            'visited_critical_notch': t.visited_critical_notch,\n",
    "            'condition_name': p.condition_name,\n",
    "        })"
   ]
  },
  {
   "cell_type": "code",
   "execution_count": 78,
   "metadata": {},
   "outputs": [],
   "source": [
    "import pandas as pd\n",
    "df = pd.DataFrame(notch_gain_stats)\n",
    "first_test_df = df[df.trial_index == 22]"
   ]
  },
  {
   "cell_type": "code",
   "execution_count": 80,
   "metadata": {},
   "outputs": [
    {
     "data": {
      "text/html": [
       "<div>\n",
       "<style scoped>\n",
       "    .dataframe tbody tr th:only-of-type {\n",
       "        vertical-align: middle;\n",
       "    }\n",
       "\n",
       "    .dataframe tbody tr th {\n",
       "        vertical-align: top;\n",
       "    }\n",
       "\n",
       "    .dataframe thead th {\n",
       "        text-align: right;\n",
       "    }\n",
       "</style>\n",
       "<table border=\"1\" class=\"dataframe\">\n",
       "  <thead>\n",
       "    <tr style=\"text-align: right;\">\n",
       "      <th>condition_name</th>\n",
       "      <th>cccccccccccc</th>\n",
       "      <th>ffffffffffff</th>\n",
       "    </tr>\n",
       "    <tr>\n",
       "      <th>visited_critical_notch</th>\n",
       "      <th></th>\n",
       "      <th></th>\n",
       "    </tr>\n",
       "  </thead>\n",
       "  <tbody>\n",
       "    <tr>\n",
       "      <th>False</th>\n",
       "      <td>7.123810</td>\n",
       "      <td>6.857143</td>\n",
       "    </tr>\n",
       "    <tr>\n",
       "      <th>True</th>\n",
       "      <td>6.915663</td>\n",
       "      <td>6.981366</td>\n",
       "    </tr>\n",
       "  </tbody>\n",
       "</table>\n",
       "</div>"
      ],
      "text/plain": [
       "condition_name          cccccccccccc  ffffffffffff\n",
       "visited_critical_notch                            \n",
       "False                       7.123810      6.857143\n",
       "True                        6.915663      6.981366"
      ]
     },
     "execution_count": 80,
     "metadata": {},
     "output_type": "execute_result"
    }
   ],
   "source": [
    "pd.crosstab(first_test_df['visited_critical_notch'], first_test_df['condition_name'], first_test_df['notch_gain'], aggfunc='mean')"
   ]
  },
  {
   "cell_type": "code",
   "execution_count": 81,
   "metadata": {},
   "outputs": [
    {
     "name": "stdout",
     "output_type": "stream",
     "text": [
      "             [,1]\n",
      "ffffffffffff  0.5\n",
      "cccccccccccc -0.5\n",
      "Analysis of Deviance Table\n",
      "\n",
      "Model 1: visited_critical_notch ~ 1\n",
      "Model 2: visited_critical_notch ~ notch_gain\n",
      "  Resid. Df Resid. Dev Df Deviance Pr(>Chi)\n",
      "1       376     489.46                     \n",
      "2       375     488.45  1   1.0168   0.3133\n"
     ]
    }
   ],
   "source": [
    "%%R -i first_test_df\n",
    "first_test_df$condition_name <- factor(\n",
    "    first_test_df$condition_name,\n",
    "    levels=c('ffffffffffff', 'cccccccccccc')\n",
    ")\n",
    "contrasts(first_test_df$condition_name) <- contr.sum(2)*.5\n",
    "print(contrasts(first_test_df$condition_name))\n",
    "base_mod <- glm(\n",
    "    visited_critical_notch ~ 1,\n",
    "    data=first_test_df,\n",
    "    family=binomial\n",
    ")\n",
    "model_comp_crit_notch <- anova(\n",
    "    base_mod,\n",
    "    update(base_mod, . ~ + notch_gain),\n",
    "    test='Chisq'\n",
    ")\n",
    "print(model_comp_crit_notch)"
   ]
  },
  {
   "cell_type": "code",
   "execution_count": null,
   "metadata": {},
   "outputs": [],
   "source": []
  }
 ],
 "metadata": {
  "kernelspec": {
   "display_name": "env37",
   "language": "python",
   "name": "python3"
  },
  "language_info": {
   "codemirror_mode": {
    "name": "ipython",
    "version": 3
   },
   "file_extension": ".py",
   "mimetype": "text/x-python",
   "name": "python",
   "nbconvert_exporter": "python",
   "pygments_lexer": "ipython3",
   "version": "3.7.4"
  },
  "orig_nbformat": 4
 },
 "nbformat": 4,
 "nbformat_minor": 2
}
