{
 "cells": [
  {
   "cell_type": "code",
   "execution_count": 1,
   "metadata": {},
   "outputs": [],
   "source": [
    "import pandas as pd\n",
    "\n",
    "summary_df = pd.read_json('./data/summary_df.json')"
   ]
  },
  {
   "cell_type": "code",
   "execution_count": 15,
   "metadata": {},
   "outputs": [
    {
     "data": {
      "text/plain": [
       "Male          212\n",
       "Female        160\n",
       "Non-Binary      4\n",
       "Other           1\n",
       "Name: gender, dtype: int64"
      ]
     },
     "execution_count": 15,
     "metadata": {},
     "output_type": "execute_result"
    }
   ],
   "source": [
    "summary_df['gender'].apply(lambda x: x.lower().strip()).apply(\n",
    "    lambda x : \n",
    "    {\n",
    "        'male': 'Male',\n",
    "        'female': 'Female',\n",
    "        'f': 'Female',\n",
    "        'm': 'Male',\n",
    "        'non-binary': 'Non-Binary',\n",
    "        'nonbinary': 'Non-Binary',\n",
    "        'man': 'Male',\n",
    "        'woman': 'Female',\n",
    "        '46': 'Other',\n",
    "        'non binary': 'Non-Binary',\n",
    "    }[x]\n",
    ").value_counts()"
   ]
  },
  {
   "cell_type": "code",
   "execution_count": 21,
   "metadata": {},
   "outputs": [
    {
     "name": "stdout",
     "output_type": "stream",
     "text": [
      "mean=37.8; min=18; max=75\n"
     ]
    }
   ],
   "source": [
    "ages = summary_df['age'].apply(int)\n",
    "print(f\"mean={ages.mean():.1f}; min={ages.min()}; max={ages.max()}\")"
   ]
  }
 ],
 "metadata": {
  "kernelspec": {
   "display_name": "env37",
   "language": "python",
   "name": "python3"
  },
  "language_info": {
   "codemirror_mode": {
    "name": "ipython",
    "version": 3
   },
   "file_extension": ".py",
   "mimetype": "text/x-python",
   "name": "python",
   "nbconvert_exporter": "python",
   "pygments_lexer": "ipython3",
   "version": "3.7.4"
  },
  "orig_nbformat": 4
 },
 "nbformat": 4,
 "nbformat_minor": 2
}
