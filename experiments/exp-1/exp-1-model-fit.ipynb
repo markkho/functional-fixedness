{
 "cells": [
  {
   "attachments": {},
   "cell_type": "markdown",
   "id": "932c7b57-36d7-4ebb-9776-6a5a33f1095e",
   "metadata": {},
   "source": [
    "# Fit model parameters"
   ]
  },
  {
   "cell_type": "code",
   "execution_count": 7,
   "id": "74beb80f-a8b6-4417-a643-df4e85ba3e4b",
   "metadata": {},
   "outputs": [],
   "source": [
    "import random\n",
    "\n",
    "import numpy as np\n",
    "import pandas as pd\n",
    "import seaborn as sns\n",
    "\n",
    "from construal_shifting.task_modeling.model_fitter import ModelFitter\n",
    "from construal_shifting.task_modeling.participant_model import ParticipantModel\n",
    "\n",
    "from data_analysis import download_data, download_condition_counts, calc_condition_counts, ExperimentDataLoader\n"
   ]
  },
  {
   "cell_type": "code",
   "execution_count": 8,
   "id": "70385832-b8f7-4406-8b77-5b4b32af3073",
   "metadata": {},
   "outputs": [],
   "source": [
    "exp_data = ExperimentDataLoader(\n",
    "    trialdata_file=\"rawtrialdata-anon.csv\"\n",
    ")\n",
    "summary_df = pd.read_json('./data/summary_df.json')\n",
    "all_participant_data = [p for p in exp_data.completed_participant_data() if p.sessionId in summary_df.sessionId.values]"
   ]
  },
  {
   "cell_type": "code",
   "execution_count": 3,
   "id": "0c2d3a86",
   "metadata": {},
   "outputs": [
    {
     "data": {
      "application/vnd.jupyter.widget-view+json": {
       "model_id": "526b83b5bd204f32af02bb3e7c01a32f",
       "version_major": 2,
       "version_minor": 0
      },
      "text/plain": [
       "  0%|          | 0/200 [00:00<?, ?it/s]"
      ]
     },
     "metadata": {},
     "output_type": "display_data"
    },
    {
     "data": {
      "application/vnd.jupyter.widget-view+json": {
       "model_id": "52a28879159c41ca8b469364e31b5b40",
       "version_major": 2,
       "version_minor": 0
      },
      "text/plain": [
       "  0%|          | 0/200 [00:00<?, ?it/s]"
      ]
     },
     "metadata": {},
     "output_type": "display_data"
    },
    {
     "data": {
      "application/vnd.jupyter.widget-view+json": {
       "model_id": "c7dad3c252324e979f2fc0f4f0274610",
       "version_major": 2,
       "version_minor": 0
      },
      "text/plain": [
       "  0%|          | 0/200 [00:00<?, ?it/s]"
      ]
     },
     "metadata": {},
     "output_type": "display_data"
    },
    {
     "data": {
      "application/vnd.jupyter.widget-view+json": {
       "model_id": "9d638d87e4e4449cbdfb47b75e188150",
       "version_major": 2,
       "version_minor": 0
      },
      "text/plain": [
       "  0%|          | 0/200 [00:00<?, ?it/s]"
      ]
     },
     "metadata": {},
     "output_type": "display_data"
    },
    {
     "data": {
      "application/vnd.jupyter.widget-view+json": {
       "model_id": "43ae843c380f42738af422cb50fd38c7",
       "version_major": 2,
       "version_minor": 0
      },
      "text/plain": [
       "  0%|          | 0/200 [00:00<?, ?it/s]"
      ]
     },
     "metadata": {},
     "output_type": "display_data"
    },
    {
     "data": {
      "application/vnd.jupyter.widget-view+json": {
       "model_id": "65ae4d5f428d4eb08d9708baccdcf446",
       "version_major": 2,
       "version_minor": 0
      },
      "text/plain": [
       "  0%|          | 0/200 [00:00<?, ?it/s]"
      ]
     },
     "metadata": {},
     "output_type": "display_data"
    },
    {
     "data": {
      "application/vnd.jupyter.widget-view+json": {
       "model_id": "0392cb6928cd49f085abb9768ec9e365",
       "version_major": 2,
       "version_minor": 0
      },
      "text/plain": [
       "  0%|          | 0/200 [00:00<?, ?it/s]"
      ]
     },
     "metadata": {},
     "output_type": "display_data"
    },
    {
     "data": {
      "application/vnd.jupyter.widget-view+json": {
       "model_id": "ed84e76e784945989eb5652be4464b23",
       "version_major": 2,
       "version_minor": 0
      },
      "text/plain": [
       "  0%|          | 0/200 [00:00<?, ?it/s]"
      ]
     },
     "metadata": {},
     "output_type": "display_data"
    },
    {
     "data": {
      "application/vnd.jupyter.widget-view+json": {
       "model_id": "942217dd84f24612a8a1cd561af2eacd",
       "version_major": 2,
       "version_minor": 0
      },
      "text/plain": [
       "  0%|          | 0/200 [00:00<?, ?it/s]"
      ]
     },
     "metadata": {},
     "output_type": "display_data"
    },
    {
     "data": {
      "application/vnd.jupyter.widget-view+json": {
       "model_id": "dbf48bee05a04070af6c772b297c2363",
       "version_major": 2,
       "version_minor": 0
      },
      "text/plain": [
       "  0%|          | 0/200 [00:00<?, ?it/s]"
      ]
     },
     "metadata": {},
     "output_type": "display_data"
    },
    {
     "data": {
      "application/vnd.jupyter.widget-view+json": {
       "model_id": "c84f7c00815241dab81156adff6eb6b8",
       "version_major": 2,
       "version_minor": 0
      },
      "text/plain": [
       "  0%|          | 0/200 [00:00<?, ?it/s]"
      ]
     },
     "metadata": {},
     "output_type": "display_data"
    },
    {
     "data": {
      "application/vnd.jupyter.widget-view+json": {
       "model_id": "d588da91be3a47a2b7078c041b9c6630",
       "version_major": 2,
       "version_minor": 0
      },
      "text/plain": [
       "  0%|          | 0/200 [00:00<?, ?it/s]"
      ]
     },
     "metadata": {},
     "output_type": "display_data"
    }
   ],
   "source": [
    "fixed_params=dict(\n",
    "    construal_cost_weight=.0,\n",
    "    construal_set_stickiness=.0,\n",
    "    construal_inverse_temp=1.0,\n",
    "    action_inverse_temp=float('inf'),\n",
    "    action_random_choice=.1,\n",
    ")\n",
    "param_bounds = dict(\n",
    "    construal_set_stickiness=(0., 10.),\n",
    "    construal_cost_weight=(0., 10.),\n",
    "    construal_inverse_temp=(0., 10),\n",
    "    action_inverse_temp=(1e-2, 10),\n",
    "    action_random_choice=(.05, 1.), #we need to lower bound to avoid numerical issues\n",
    ")\n",
    "param_combos_to_fit = [\n",
    "    [\"action_random_choice\"],\n",
    "    [\"construal_cost_weight\", \"construal_set_stickiness\", \"action_random_choice\"],\n",
    "    [\"construal_set_stickiness\", \"action_random_choice\"],\n",
    "    [\"construal_cost_weight\", \"action_random_choice\"],\n",
    "]\n",
    "\n",
    "results = []\n",
    "rng = random.Random(61311)\n",
    "fitter = ModelFitter(all_participant_data)\n",
    "for params_to_fit in param_combos_to_fit:\n",
    "    fit_res = fitter.fit_params(\n",
    "        fixed_params={p: v for p, v in fixed_params.items() if p not in params_to_fit},\n",
    "        params_to_fit=params_to_fit,\n",
    "        param_bounds=param_bounds,\n",
    "        maxfun=200,\n",
    "        runs=3,\n",
    "        seed=rng.randint(0, int(1e7))\n",
    "    )\n",
    "    for i, res in enumerate(fit_res):\n",
    "        results.append({\n",
    "            \"run\": i,\n",
    "            **res.model_params,\n",
    "            **{'fit_'+p: True for p in params_to_fit},\n",
    "            'NLL': res.neg_log_like,\n",
    "        })"
   ]
  },
  {
   "cell_type": "code",
   "execution_count": 5,
   "id": "c6154475",
   "metadata": {},
   "outputs": [],
   "source": [
    "import pandas as pd\n",
    "res_df = pd.DataFrame(results)\n",
    "res_df['df'] = res_df[['fit_construal_cost_weight', 'fit_construal_set_stickiness', 'fit_action_random_choice']].apply(lambda r: sum([t == True for t in r]), axis=1)\n",
    "res_df['AIC'] = res_df.apply(lambda r: 2*r['df'] + r['NLL'], axis=1)\n",
    "res_df['dAIC'] = res_df['AIC'] - res_df['AIC'].min()\n",
    "optimal_results = res_df.loc[[0, 6, 9, 4]].reset_index(drop=True)"
   ]
  },
  {
   "cell_type": "code",
   "execution_count": 6,
   "id": "754dbb6c",
   "metadata": {},
   "outputs": [],
   "source": [
    "optimal_results.to_pickle('./data/model_fits.pkl')"
   ]
  },
  {
   "cell_type": "code",
   "execution_count": null,
   "id": "5e2590a1",
   "metadata": {},
   "outputs": [],
   "source": []
  },
  {
   "attachments": {},
   "cell_type": "markdown",
   "id": "fc2e853e",
   "metadata": {},
   "source": [
    "### Calculate and save joint model statistics"
   ]
  },
  {
   "cell_type": "code",
   "execution_count": 4,
   "id": "4fb8643a",
   "metadata": {},
   "outputs": [],
   "source": [
    "import pandas as pd\n",
    "from tqdm import tqdm\n",
    "optimal_results = pd.read_pickle('./data/model_fits.pkl')"
   ]
  },
  {
   "cell_type": "code",
   "execution_count": 5,
   "id": "96f1a63d",
   "metadata": {},
   "outputs": [],
   "source": [
    "joint_fit = optimal_results[optimal_results['fit_construal_cost_weight'] & optimal_results['fit_construal_set_stickiness']].iloc[0]\n",
    "joint_fit = joint_fit.to_dict()\n",
    "joint_fit = {k: joint_fit[k] for k in [\n",
    "    \"action_inverse_temp\", \"action_random_choice\", \"construal_inverse_temp\",\n",
    "    \"construal_set_stickiness\", \"construal_cost_weight\"\n",
    "]}"
   ]
  },
  {
   "cell_type": "code",
   "execution_count": 9,
   "id": "351dd1b0",
   "metadata": {},
   "outputs": [
    {
     "name": "stderr",
     "output_type": "stream",
     "text": [
      "100%|██████████| 419/419 [04:56<00:00,  1.41it/s]  \n"
     ]
    }
   ],
   "source": [
    "pmod_stats_rec = []\n",
    "for pdata in tqdm(list(exp_data.completed_participant_data())):\n",
    "    pmod = ParticipantModel(pdata)\n",
    "    trial_stats = pmod.trials_model_stats(**joint_fit)\n",
    "    pmod_stats_rec.extend(trial_stats)\n",
    "pmod_stats = pd.DataFrame(pmod_stats_rec)"
   ]
  },
  {
   "cell_type": "code",
   "execution_count": 11,
   "id": "48ba6d23",
   "metadata": {},
   "outputs": [],
   "source": [
    "pmod_stats.to_pickle('./data/participantmodel_stats.pkl')"
   ]
  }
 ],
 "metadata": {
  "kernelspec": {
   "display_name": "Python 3 (ipykernel)",
   "language": "python",
   "name": "python3"
  },
  "language_info": {
   "codemirror_mode": {
    "name": "ipython",
    "version": 3
   },
   "file_extension": ".py",
   "mimetype": "text/x-python",
   "name": "python",
   "nbconvert_exporter": "python",
   "pygments_lexer": "ipython3",
   "version": "3.7.4"
  }
 },
 "nbformat": 4,
 "nbformat_minor": 5
}
