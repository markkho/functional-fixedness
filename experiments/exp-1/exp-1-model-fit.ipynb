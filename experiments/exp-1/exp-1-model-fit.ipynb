{
 "cells": [
  {
   "cell_type": "markdown",
   "id": "932c7b57-36d7-4ebb-9776-6a5a33f1095e",
   "metadata": {},
   "source": [
    "# Fit model parameters"
   ]
  },
  {
   "cell_type": "code",
   "execution_count": 1,
   "id": "74beb80f-a8b6-4417-a643-df4e85ba3e4b",
   "metadata": {},
   "outputs": [],
   "source": [
    "import numpy as np\n",
    "import pandas as pd\n",
    "import seaborn as sns\n",
    "\n",
    "from data_analysis import download_data, download_condition_counts, calc_condition_counts, ExperimentDataLoader\n",
    "exp_data = ExperimentDataLoader(\n",
    "    trialdata_file=\"rawtrialdata-anon.csv\"\n",
    ")"
   ]
  },
  {
   "cell_type": "code",
   "execution_count": 2,
   "id": "70385832-b8f7-4406-8b77-5b4b32af3073",
   "metadata": {},
   "outputs": [],
   "source": [
    "summary_df = pd.read_json('./data/summary_df.json')"
   ]
  },
  {
   "cell_type": "code",
   "execution_count": 4,
   "id": "39c16a0d-cbf1-49ca-9985-81bf2840f982",
   "metadata": {},
   "outputs": [],
   "source": [
    "from itertools import product\n",
    "from frozendict import frozendict\n",
    "from tqdm.notebook import tqdm\n",
    "from functools import lru_cache\n",
    "from construal_shifting.task_modeling.participant_model import ParticipantModel\n",
    "from construal_shifting.task_modeling.construal_trial_model import ConstrualTrialModel\n",
    "\n",
    "included_sessionIds = list(summary_df.sessionId)\n",
    "@lru_cache(maxsize=None)\n",
    "def evaluate_model_params(model_params):\n",
    "    total_log_prob = 0\n",
    "    iterator = list(exp_data.completed_participant_data())\n",
    "    for participant_data in iterator:\n",
    "        if participant_data.sessionId not in included_sessionIds:\n",
    "            continue\n",
    "        # n_trial_models = len(ConstrualTrialModel.__cache__)\n",
    "        # iterator.set_description(f\"Log-prob: {total_log_prob:.2f}; N trial models: {n_trial_models}\")\n",
    "        pmod = ParticipantModel(participant_data)\n",
    "        total_log_prob += pmod.trials_log_probability(**model_params)\n",
    "    return total_log_prob"
   ]
  },
  {
   "cell_type": "code",
   "execution_count": 5,
   "id": "2784fdc0-db66-4e88-b8ae-a505c7e13e04",
   "metadata": {},
   "outputs": [],
   "source": [
    "import random\n",
    "from dataclasses import dataclass\n",
    "from scipy.optimize import fmin_l_bfgs_b\n",
    "    \n",
    "@dataclass\n",
    "class FitResult:\n",
    "    model_params : dict\n",
    "    neg_log_like : float\n",
    "    x0 : np.ndarray\n",
    "    info : dict\n",
    "    \n",
    "def param_dict_to_str(params):\n",
    "    pstr = []\n",
    "    pnames = sorted(params.keys())\n",
    "    for n in pnames:\n",
    "        short_n = n.replace('construal', 'c').\\\n",
    "            replace('cost_weight', 'cost').\\\n",
    "            replace('inverse_temp', 'invt').\\\n",
    "            replace('random_choice', 'eps').\\\n",
    "            replace('action', 'a').\\\n",
    "            replace('set_stickiness', 'stick')\n",
    "        pstr.append(f'{short_n}:{params[n]:.2f}')\n",
    "    return ', '.join(pstr)\n",
    "\n",
    "def fit_params_once(\n",
    "    fixed_params,\n",
    "    initial_params,\n",
    "    param_bounds,\n",
    "    maxfun,\n",
    "):\n",
    "    param_names = sorted(initial_params.keys())\n",
    "    iterator = tqdm(total=maxfun)\n",
    "    def func(x):\n",
    "        iterator.update(n=1)\n",
    "        model_params = dict(zip(param_names, x))\n",
    "        model_params = {**fixed_params, **model_params}\n",
    "        log_prob = evaluate_model_params(frozendict(model_params))\n",
    "        iterator.set_description(f\"NLL: {-log_prob:.0f}; {param_dict_to_str(model_params)}\")\n",
    "        return -log_prob\n",
    "\n",
    "    x0 = np.array([initial_params[n] for n in param_names])\n",
    "    x, nll, info = fmin_l_bfgs_b(\n",
    "        func=func,\n",
    "        x0=x0,\n",
    "        bounds=[param_bounds[n] for n in param_names],\n",
    "        maxfun=maxfun,\n",
    "        approx_grad=True\n",
    "    )\n",
    "    iterator.close()\n",
    "    model_params = dict(zip(param_names, x))\n",
    "    model_params = {**fixed_params, **model_params}\n",
    "    return FitResult(\n",
    "        model_params=model_params,\n",
    "        neg_log_like=nll,\n",
    "        x0=x0,\n",
    "        info=info\n",
    "    )\n",
    "\n",
    "def fit_params(\n",
    "    fixed_params,\n",
    "    params_to_fit,\n",
    "    param_bounds,\n",
    "    maxfun,\n",
    "    runs,\n",
    "    seed=None\n",
    "):\n",
    "    rng = random.Random(seed)\n",
    "    results = []\n",
    "    for _ in range(runs):\n",
    "        initial_params = {}\n",
    "        for name in params_to_fit:\n",
    "            vmin, vmax = param_bounds[name]\n",
    "            initial_params[name] = vmin + rng.random()*(vmax - vmin)\n",
    "        res = fit_params_once(\n",
    "            fixed_params={p: v for p, v in fixed_params.items() if p not in params_to_fit},\n",
    "            initial_params=initial_params,\n",
    "            param_bounds=param_bounds,\n",
    "            maxfun=maxfun\n",
    "        )\n",
    "        res.initial_params = initial_params\n",
    "        results.append(res)\n",
    "        ConstrualTrialModel.clear_instance_method_caches()\n",
    "    return results"
   ]
  },
  {
   "cell_type": "code",
   "execution_count": 7,
   "id": "6394b063-6e25-48eb-8979-4a7702036bfb",
   "metadata": {},
   "outputs": [],
   "source": [
    "fixed_params=dict(\n",
    "    construal_cost_weight=.0,\n",
    "    construal_set_stickiness=.0,\n",
    "    construal_inverse_temp=1.0,\n",
    "    action_inverse_temp=float('inf'),\n",
    "    action_random_choice=.1,\n",
    ")\n",
    "initial_params=dict(\n",
    "    construal_cost_weight=5,\n",
    "    construal_set_stickiness=5,\n",
    "    construal_inverse_temp=1.0,\n",
    "    action_inverse_temp=1.,\n",
    "    action_random_choice=.1,\n",
    ")\n",
    "param_bounds = dict(\n",
    "    construal_set_stickiness=(0., 10.),\n",
    "    construal_cost_weight=(0., 10.),\n",
    "    construal_inverse_temp=(0., 10),\n",
    "    action_inverse_temp=(1e-2, 10),\n",
    "    action_random_choice=(5e-2, 1.),\n",
    ")\n",
    "param_combos_to_fit = [\n",
    "    [\"action_random_choice\"],\n",
    "    [\"construal_cost_weight\", \"construal_set_stickiness\", \"action_random_choice\"],\n",
    "    [\"construal_set_stickiness\", \"action_random_choice\"],\n",
    "    [\"construal_cost_weight\", \"action_random_choice\"],\n",
    "]\n",
    "results = []\n",
    "rng = random.Random(12490)\n",
    "for params_to_fit in param_combos_to_fit:\n",
    "    fit_res = fit_params(\n",
    "        fixed_params={p: v for p, v in fixed_params.items() if p not in params_to_fit},\n",
    "        params_to_fit=params_to_fit,\n",
    "        param_bounds=param_bounds,\n",
    "        maxfun=200,\n",
    "        runs=3,\n",
    "        seed=rng.randint(0, int(1e7))\n",
    "    )\n",
    "    for i, res in enumerate(fit_res):\n",
    "        results.append({\n",
    "            \"run\": i,\n",
    "            **res.model_params,\n",
    "            **{'fit_'+p: True for p in params_to_fit},\n",
    "            'NLL': res.neg_log_like,\n",
    "        })\n",
    "        "
   ]
  },
  {
   "cell_type": "code",
   "execution_count": 67,
   "id": "1c1afa74-3a07-4f41-8836-7e216d857601",
   "metadata": {},
   "outputs": [],
   "source": [
    "import pandas as pd\n",
    "res_df = pd.DataFrame(results)\n",
    "res_df['df'] = res_df[['fit_construal_cost_weight', 'fit_construal_set_stickiness', 'fit_action_random_choice']].apply(lambda r: sum([t == True for t in r]), axis=1)\n",
    "res_df['AIC'] = res_df.apply(lambda r: 2*r['df'] + r['NLL'], axis=1)\n",
    "res_df['dAIC'] = res_df['AIC'] - res_df['AIC'].min()\n",
    "optimal_results = res_df.loc[[0, 6, 9, 4]].reset_index(drop=True)"
   ]
  },
  {
   "cell_type": "code",
   "execution_count": 70,
   "id": "7273ef44-d8cd-4fee-9604-8a1df2f08ac1",
   "metadata": {},
   "outputs": [],
   "source": [
    "optimal_results.to_pickle('./data/model_fits.pkl')"
   ]
  },
  {
   "cell_type": "markdown",
   "id": "05495062-de25-498a-be35-9454355859fb",
   "metadata": {},
   "source": [
    "### Calculate and save joint model statistics"
   ]
  },
  {
   "cell_type": "code",
   "execution_count": 71,
   "id": "4bca1a75-bb05-4b18-9567-8999dccdf368",
   "metadata": {},
   "outputs": [],
   "source": [
    "import pandas as pd\n",
    "optimal_results = pd.read_pickle('./data/model_fits.pkl')"
   ]
  },
  {
   "cell_type": "code",
   "execution_count": 72,
   "id": "3a916ca2-a518-45ad-927e-61b3ab4c814e",
   "metadata": {},
   "outputs": [],
   "source": [
    "joint_fit = optimal_results[optimal_results['fit_construal_cost_weight'] & optimal_results['fit_construal_set_stickiness']].iloc[0]\n",
    "joint_fit = joint_fit.to_dict()\n",
    "joint_fit = {k: joint_fit[k] for k in [\n",
    "    \"action_inverse_temp\", \"action_random_choice\", \"construal_inverse_temp\",\n",
    "    \"construal_set_stickiness\", \"construal_cost_weight\"\n",
    "]}"
   ]
  },
  {
   "cell_type": "code",
   "execution_count": 74,
   "id": "a2ef8ea2-68f0-4786-8172-c5a4b21b5607",
   "metadata": {},
   "outputs": [
    {
     "data": {
      "application/vnd.jupyter.widget-view+json": {
       "model_id": "a77da5abfa6a4053908aa472de00eba5",
       "version_major": 2,
       "version_minor": 0
      },
      "text/plain": [
       "  0%|          | 0/419 [00:00<?, ?it/s]"
      ]
     },
     "metadata": {},
     "output_type": "display_data"
    }
   ],
   "source": [
    "pmod_stats_rec = []\n",
    "for pdata in tqdm(list(exp_data.completed_participant_data())):\n",
    "    pmod = ParticipantModel(pdata)\n",
    "    trial_stats = pmod.trials_model_stats(**joint_fit)\n",
    "    pmod_stats_rec.extend(trial_stats)\n",
    "pmod_stats = pd.DataFrame(pmod_stats_rec)"
   ]
  },
  {
   "cell_type": "code",
   "execution_count": 75,
   "id": "843685f5-1f52-41d9-8a4d-99b44f6a873b",
   "metadata": {},
   "outputs": [],
   "source": [
    "pmod_stats.to_pickle('./data/participantmodel_stats.pkl')"
   ]
  },
  {
   "cell_type": "code",
   "execution_count": null,
   "id": "2e178e3b-bd84-43f4-9c1e-0342a90461bf",
   "metadata": {},
   "outputs": [],
   "source": []
  }
 ],
 "metadata": {
  "kernelspec": {
   "display_name": "Python 3 (ipykernel)",
   "language": "python",
   "name": "python3"
  },
  "language_info": {
   "codemirror_mode": {
    "name": "ipython",
    "version": 3
   },
   "file_extension": ".py",
   "mimetype": "text/x-python",
   "name": "python",
   "nbconvert_exporter": "python",
   "pygments_lexer": "ipython3",
   "version": "3.7.4"
  }
 },
 "nbformat": 4,
 "nbformat_minor": 5
}
