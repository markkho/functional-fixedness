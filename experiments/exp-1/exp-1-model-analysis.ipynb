{
 "cells": [
  {
   "cell_type": "code",
   "execution_count": 1,
   "id": "8a085265-17e0-4088-b395-16eaf9c1f6c2",
   "metadata": {},
   "outputs": [],
   "source": [
    "%reload_ext autoreload\n",
    "%autoreload 2"
   ]
  },
  {
   "cell_type": "code",
   "execution_count": 2,
   "id": "d23942e9-267d-470a-901b-4b851f242928",
   "metadata": {},
   "outputs": [],
   "source": [
    "%load_ext rpy2.ipython"
   ]
  },
  {
   "cell_type": "code",
   "execution_count": 3,
   "id": "36a156cf-cfa1-4382-b1cb-39be03e005c8",
   "metadata": {},
   "outputs": [
    {
     "name": "stderr",
     "output_type": "stream",
     "text": [
      "R[write to console]: Loading required package: Matrix\n",
      "\n",
      "R[write to console]: \n",
      "Attaching package: ‘lmerTest’\n",
      "\n",
      "\n",
      "R[write to console]: The following object is masked from ‘package:lme4’:\n",
      "\n",
      "    lmer\n",
      "\n",
      "\n",
      "R[write to console]: The following object is masked from ‘package:stats’:\n",
      "\n",
      "    step\n",
      "\n",
      "\n"
     ]
    }
   ],
   "source": [
    "%%R\n",
    "library(lme4)\n",
    "library(lmerTest)"
   ]
  },
  {
   "cell_type": "code",
   "execution_count": 4,
   "id": "1e8dfd26-7a8a-4921-a649-41e96dae54f2",
   "metadata": {},
   "outputs": [],
   "source": [
    "import matplotlib\n",
    "font = {\n",
    "    'family' : 'Arial',\n",
    "    'weight' : 'normal',\n",
    "    'size'   : 12\n",
    "}\n",
    "\n",
    "matplotlib.rc('font', **font)"
   ]
  },
  {
   "cell_type": "code",
   "execution_count": 5,
   "id": "ef9369d8-bed9-479c-8d4e-2bde2d5c0397",
   "metadata": {},
   "outputs": [],
   "source": [
    "def save_paper_input(input_name, input_str):\n",
    "    filename = f\"./inputs/{input_name}.tex\"\n",
    "    with open(filename, 'w') as file:\n",
    "        file.write(input_str)\n",
    "    print(f\"Saved to {filename}:\\n{input_str}\")\n",
    "    \n",
    "def latex_float(f):\n",
    "    float_str = \"{0:.2g}\".format(f)\n",
    "    if \"e\" in float_str:\n",
    "        base, exponent = float_str.split(\"e\")\n",
    "        return r\"{0} \\times 10^{{{1}}}\".format(base, int(exponent))\n",
    "    else:\n",
    "        return float_str"
   ]
  },
  {
   "cell_type": "code",
   "execution_count": 6,
   "id": "0a2e529e-9ed8-4fb8-81af-67eff4b630df",
   "metadata": {},
   "outputs": [],
   "source": [
    "import json\n",
    "from matplotlib import pyplot as plt"
   ]
  },
  {
   "cell_type": "code",
   "execution_count": 7,
   "id": "bb36a621-860c-4538-9e70-fa5c763adf81",
   "metadata": {},
   "outputs": [],
   "source": [
    "import numpy as np\n",
    "import pandas as pd\n",
    "import seaborn as sns\n",
    "\n",
    "from data_analysis import download_data, download_condition_counts, calc_condition_counts, ExperimentDataLoader\n",
    "from itertools import product\n",
    "from frozendict import frozendict\n",
    "from tqdm.notebook import tqdm\n",
    "from functools import lru_cache\n",
    "from construal_shifting.task_modeling.participant_model import ParticipantModel\n",
    "from construal_shifting.task_modeling.construal_trial_model import ConstrualTrialModel\n",
    "\n",
    "exp_data = ExperimentDataLoader(\n",
    "    trialdata_file=\"rawtrialdata-anon.csv\"\n",
    ")\n",
    "pmod_stats = pd.read_pickle('./data/participantmodel_stats.pkl')\n",
    "pmod_stats['initial_rt_log_milliseconds'] = np.log(pmod_stats['initial_rt_milliseconds'])\n",
    "pmod_stats['trial_type'] = pmod_stats['grid_name'].apply(lambda x: x.split('-')[-1])"
   ]
  },
  {
   "attachments": {},
   "cell_type": "markdown",
   "id": "c7f100fc-07cd-4e7a-815b-d948de9a572e",
   "metadata": {},
   "source": [
    "# Analysis with fit model"
   ]
  },
  {
   "cell_type": "code",
   "execution_count": 8,
   "id": "6fe7a223-fab4-4d05-ba8f-5976909377d0",
   "metadata": {},
   "outputs": [],
   "source": [
    "model_fit_df = pd.read_pickle('./data/model_fits.pkl')\n",
    "model_fit_df['df'] = model_fit_df[[\n",
    "    'fit_construal_cost_weight', 'fit_construal_set_stickiness', 'fit_action_random_choice'\n",
    "]].apply(lambda r: sum([t == True for t in r]), axis=1)\n",
    "model_fit_df['AIC'] = model_fit_df.apply(lambda r: 2*r['df'] + r['NLL'], axis=1)\n",
    "model_fit_df['dAIC'] = model_fit_df['AIC'] - model_fit_df['AIC'].min()"
   ]
  },
  {
   "cell_type": "code",
   "execution_count": 9,
   "id": "362a4b58-d2a3-4168-9235-a3e6e5b83b66",
   "metadata": {},
   "outputs": [
    {
     "name": "stdout",
     "output_type": "stream",
     "text": [
      "\\begin{tabular}{lrrrrrr}\n",
      "\\toprule\n",
      "                          Model &  $\\lambda_{\\text{Complexity}}$ &  $\\lambda_{\\text{Switch}}$ &  $\\varepsilon$ &  df &    AIC &  $\\Delta$AIC \\\\\n",
      "\\midrule\n",
      "   No complexity or switch cost &                           0.00 &                       0.00 &            0.1 &   1 & 132094 &         2804 \\\\\n",
      "           Only complexity cost &                           5.42 &                       0.00 &            0.1 &   2 & 130535 &         1245 \\\\\n",
      "               Only switch cost &                           0.00 &                       8.54 &            0.1 &   2 & 130057 &          767 \\\\\n",
      "Both complexity and switch cost &                           1.69 &                       5.33 &            0.1 &   3 & 129289 &            0 \\\\\n",
      "\\bottomrule\n",
      "\\end{tabular}\n",
      "\n"
     ]
    }
   ],
   "source": [
    "model_fits = model_fit_df.copy()\n",
    "model_fits['Model'] = [\n",
    "    \"No complexity or switch cost\",\n",
    "    \"Only switch cost\",\n",
    "    \"Only complexity cost\",\n",
    "    \"Both complexity and switch cost\"\n",
    "]\n",
    "model_fits = model_fits[['Model', 'construal_cost_weight', 'construal_set_stickiness', 'action_random_choice', 'df', 'AIC', 'dAIC']]\n",
    "model_fits = model_fits.sort_values(by=\"dAIC\", ascending=False)\n",
    "model_fits = model_fits.round(dict(\n",
    "    action_random_choice=2, \n",
    "    construal_cost_weight=2,\n",
    "    construal_set_stickiness=2,\n",
    "))\n",
    "model_fits['AIC'] = model_fits['AIC'].astype(int)\n",
    "model_fits['dAIC'] = model_fits['dAIC'].astype(int)\n",
    "model_fits = model_fits.rename(columns=dict(\n",
    "    action_random_choice=r'$\\varepsilon$', \n",
    "    construal_cost_weight=r'$\\lambda_{\\text{Complexity}}$',\n",
    "    construal_set_stickiness=r'$\\lambda_{\\text{Switch}}$',\n",
    "    AIC=\"AIC\",\n",
    "    dAIC=r\"$\\Delta$AIC\"\n",
    "))\n",
    "model_fits_table = model_fits.to_latex(\n",
    "    # na_rep=\"---\", \n",
    "    escape=False,\n",
    "    column_format=\"lrrrrrr\",\n",
    "    # col_space=1,\n",
    "    index=False\n",
    ")\n",
    "# model_fits\n",
    "print(model_fits_table)"
   ]
  },
  {
   "cell_type": "code",
   "execution_count": 10,
   "id": "4028f94c-c65f-4ec4-bc2c-593ac8f7e51b",
   "metadata": {},
   "outputs": [
    {
     "data": {
      "text/html": [
       "<div>\n",
       "<style scoped>\n",
       "    .dataframe tbody tr th:only-of-type {\n",
       "        vertical-align: middle;\n",
       "    }\n",
       "\n",
       "    .dataframe tbody tr th {\n",
       "        vertical-align: top;\n",
       "    }\n",
       "\n",
       "    .dataframe thead th {\n",
       "        text-align: right;\n",
       "    }\n",
       "</style>\n",
       "<table border=\"1\" class=\"dataframe\">\n",
       "  <thead>\n",
       "    <tr style=\"text-align: right;\">\n",
       "      <th></th>\n",
       "      <th>Model</th>\n",
       "      <th>construal_cost_weight</th>\n",
       "      <th>construal_set_stickiness</th>\n",
       "      <th>action_random_choice</th>\n",
       "      <th>df</th>\n",
       "      <th>AIC</th>\n",
       "      <th>dAIC</th>\n",
       "    </tr>\n",
       "  </thead>\n",
       "  <tbody>\n",
       "    <tr>\n",
       "      <th>0</th>\n",
       "      <td>No complexity or switch cost</td>\n",
       "      <td>0.00</td>\n",
       "      <td>0.00</td>\n",
       "      <td>0.1</td>\n",
       "      <td>1</td>\n",
       "      <td>132094.38</td>\n",
       "      <td>2804.43</td>\n",
       "    </tr>\n",
       "    <tr>\n",
       "      <th>2</th>\n",
       "      <td>Only complexity cost</td>\n",
       "      <td>5.42</td>\n",
       "      <td>0.00</td>\n",
       "      <td>0.1</td>\n",
       "      <td>2</td>\n",
       "      <td>130535.47</td>\n",
       "      <td>1245.52</td>\n",
       "    </tr>\n",
       "    <tr>\n",
       "      <th>1</th>\n",
       "      <td>Only switch cost</td>\n",
       "      <td>0.00</td>\n",
       "      <td>8.54</td>\n",
       "      <td>0.1</td>\n",
       "      <td>2</td>\n",
       "      <td>130057.91</td>\n",
       "      <td>767.97</td>\n",
       "    </tr>\n",
       "    <tr>\n",
       "      <th>3</th>\n",
       "      <td>Both complexity and switch cost</td>\n",
       "      <td>1.69</td>\n",
       "      <td>5.33</td>\n",
       "      <td>0.1</td>\n",
       "      <td>3</td>\n",
       "      <td>129289.94</td>\n",
       "      <td>0.00</td>\n",
       "    </tr>\n",
       "  </tbody>\n",
       "</table>\n",
       "</div>"
      ],
      "text/plain": [
       "                             Model  construal_cost_weight  \\\n",
       "0     No complexity or switch cost                   0.00   \n",
       "2             Only complexity cost                   5.42   \n",
       "1                 Only switch cost                   0.00   \n",
       "3  Both complexity and switch cost                   1.69   \n",
       "\n",
       "   construal_set_stickiness  action_random_choice  df        AIC     dAIC  \n",
       "0                      0.00                   0.1   1  132094.38  2804.43  \n",
       "2                      0.00                   0.1   2  130535.47  1245.52  \n",
       "1                      8.54                   0.1   2  130057.91   767.97  \n",
       "3                      5.33                   0.1   3  129289.94     0.00  "
      ]
     },
     "execution_count": 10,
     "metadata": {},
     "output_type": "execute_result"
    }
   ],
   "source": [
    "model_fits = model_fit_df.copy()\n",
    "model_fits['Model'] = [\n",
    "    \"No complexity or switch cost\",\n",
    "    \"Only switch cost\",\n",
    "    \"Only complexity cost\",\n",
    "    \"Both complexity and switch cost\"\n",
    "]\n",
    "model_fits = model_fits[['Model', 'construal_cost_weight', 'construal_set_stickiness', 'action_random_choice', 'df', 'AIC', 'dAIC']]\n",
    "model_fits = model_fits.sort_values(by=\"dAIC\", ascending=False)\n",
    "model_fits.round(2)"
   ]
  },
  {
   "attachments": {},
   "cell_type": "markdown",
   "id": "083ad0f6-01d1-4145-848d-71b5c07d5477",
   "metadata": {},
   "source": [
    "## Analysis of RTs with model"
   ]
  },
  {
   "cell_type": "code",
   "execution_count": 11,
   "id": "fb9292fc",
   "metadata": {},
   "outputs": [],
   "source": [
    "def bootstrap_ci(\n",
    "    x,\n",
    "    n_resamplings = 10000,\n",
    "    ci = .95,\n",
    "):\n",
    "    samples = np.random.choice(x, size=(n_resamplings, len(x)))\n",
    "    sample_stat = [np.mean(samp) for samp in samples]\n",
    "    sample_stat = sorted(sample_stat)\n",
    "    lower_bound = sample_stat[int(n_resamplings*((1-ci)/2))]\n",
    "    upper_bound = sample_stat[int(n_resamplings*(ci+(1-ci)/2))]\n",
    "    real_mean = np.mean(x)\n",
    "    return real_mean - lower_bound, upper_bound - real_mean"
   ]
  },
  {
   "cell_type": "code",
   "execution_count": 12,
   "id": "84bbe7a5",
   "metadata": {},
   "outputs": [],
   "source": [
    "test_trial_stats = pmod_stats[pmod_stats['trial'] >= 12]"
   ]
  },
  {
   "cell_type": "code",
   "execution_count": 13,
   "id": "8e2ff56f-c65d-4b55-9ecf-c883acad3724",
   "metadata": {},
   "outputs": [],
   "source": [
    "test_trials = pd.read_json('./data/test_trial_stats.json')\n",
    "pmod_stats_test_trials = pmod_stats[pmod_stats['grid_name'].apply(lambda n: 'test' in n)].reset_index(drop=True)\n",
    "pmod_stats_training_trials = pmod_stats[pmod_stats['grid_name'].apply(lambda n: 'test' not in n)].reset_index(drop=True)\n",
    "pmod_stats_test_trials['test_trial_num'] = pmod_stats_test_trials['trial'] - 12\n",
    "pmod_stats_test_trials = pmod_stats_test_trials.merge(\n",
    "    test_trials[['sessionId', 'test_trial_num', 'visited_critical_notch']],\n",
    "    on=['sessionId', 'test_trial_num']\n",
    ")"
   ]
  },
  {
   "cell_type": "code",
   "execution_count": 14,
   "id": "e3bfe128",
   "metadata": {},
   "outputs": [
    {
     "data": {
      "text/plain": [
       "[<matplotlib.axis.XTick at 0x7ff68b5d2610>,\n",
       " <matplotlib.axis.XTick at 0x7ff68b5d2a10>,\n",
       " <matplotlib.axis.XTick at 0x7ff68b5d39d0>,\n",
       " <matplotlib.axis.XTick at 0x7ff66aa76890>]"
      ]
     },
     "execution_count": 14,
     "metadata": {},
     "output_type": "execute_result"
    },
    {
     "data": {
      "image/png": "[encoded data removed]",
      "text/plain": [
       "<Figure size 900x900 with 1 Axes>"
      ]
     },
     "metadata": {},
     "output_type": "display_data"
    }
   ],
   "source": [
    "fig, ax = plt.subplots(1, 1, figsize=(3, 3), dpi=300)\n",
    "test_means = pmod_stats_test_trials.groupby(['grid_name', 'condition_name', 'visited_critical_notch'])[[\n",
    "    'initial_rt_log_milliseconds',\n",
    "    'expected_cognitive_cost',\n",
    "]].mean().reset_index()\n",
    "test_err = pmod_stats_test_trials.groupby(['grid_name', 'condition_name', 'visited_critical_notch'])[[\n",
    "    'initial_rt_log_milliseconds',\n",
    "    'expected_cognitive_cost',\n",
    "]].agg(bootstrap_ci).reset_index()\n",
    "train_means = pmod_stats_training_trials.groupby(['grid_name', 'condition_name'])[[\n",
    "    'initial_rt_log_milliseconds',\n",
    "    'expected_cognitive_cost',\n",
    "]].mean().reset_index()\n",
    "train_err = pmod_stats_training_trials.groupby(['grid_name', 'condition_name'])[[\n",
    "    'initial_rt_log_milliseconds',\n",
    "    'expected_cognitive_cost',\n",
    "]].agg(bootstrap_ci).reset_index()\n",
    "\n",
    "shared_plot_params = dict(\n",
    "    markersize=5,\n",
    "    lw=0,\n",
    "    markeredgecolor=\"k\",\n",
    "    markeredgewidth=.8,\n",
    ")\n",
    "\n",
    "for visited_critical_notch, condition_name in product(\n",
    "    [True, False], ['ffffffffffff', 'cccccccccccc']\n",
    "):\n",
    "    selector_means = \\\n",
    "        (test_means['visited_critical_notch'] == visited_critical_notch) & \\\n",
    "        (test_means['condition_name'] == condition_name)\n",
    "    \n",
    "    selector_err = \\\n",
    "        (test_err['visited_critical_notch'] == visited_critical_notch) & \\\n",
    "        (test_err['condition_name'] == condition_name)\n",
    "    ax.errorbar(\n",
    "        x=test_means[selector_means]['expected_cognitive_cost'],\n",
    "        y=test_means[selector_means]['initial_rt_log_milliseconds'],\n",
    "        xerr=np.array(list(test_err[selector_err]['expected_cognitive_cost'])).T,\n",
    "        yerr=np.array(list(test_err[selector_err]['initial_rt_log_milliseconds'])).T,\n",
    "        marker={True: '^', False: 'v'}[visited_critical_notch],\n",
    "        color={\"ffffffffffff\": \"#005AB5\", \"cccccccccccc\": \"#DC3220\"}[condition_name],\n",
    "        elinewidth=.5,\n",
    "        capsize=2,\n",
    "        capthick=.4,\n",
    "        **shared_plot_params\n",
    "    )\n",
    "\n",
    "ax.errorbar(\n",
    "    x=train_means[train_means['condition_name'] == 'c'*12]['expected_cognitive_cost'],\n",
    "    y=train_means[train_means['condition_name'] == 'c'*12]['initial_rt_log_milliseconds'],\n",
    "    xerr=np.array(list(train_err[train_err['condition_name'] == 'c'*12]['expected_cognitive_cost'])).T,\n",
    "    yerr=np.array(list(train_err[train_err['condition_name'] == 'c'*12]['initial_rt_log_milliseconds'])).T,\n",
    "    marker='o',\n",
    "    color=\"#DC3220\",\n",
    "    elinewidth=.5,\n",
    "    capsize=2,\n",
    "    capthick=.5,\n",
    "    **shared_plot_params,\n",
    "    # markerfacecolor='none',\n",
    ")\n",
    "ax.errorbar(\n",
    "    x=train_means[train_means['condition_name'] == 'f'*12]['expected_cognitive_cost'],\n",
    "    y=train_means[train_means['condition_name'] == 'f'*12]['initial_rt_log_milliseconds'],\n",
    "    xerr=np.array(list(train_err[train_err['condition_name'] == 'f'*12]['expected_cognitive_cost'])).T,\n",
    "    yerr=np.array(list(train_err[train_err['condition_name'] == 'f'*12]['initial_rt_log_milliseconds'])).T,\n",
    "    marker='o',\n",
    "    color=\"#005AB5\",\n",
    "    elinewidth=.5,\n",
    "    capsize=2,\n",
    "    capthick=.5,\n",
    "    **shared_plot_params,\n",
    "    # markerfacecolor='none',\n",
    ")\n",
    "ax.set_ylabel(\n",
    "    \"First Move\\nRT\\n(log ms)\",\n",
    "    rotation=\"horizontal\",\n",
    "    labelpad=35,\n",
    "    va='center'\n",
    ")\n",
    "ax.set_xlabel(\"Estimated Complexity Cost\")\n",
    "ax.set_ylim(7.2, 8.4)\n",
    "ax.set_yticks([7.2, 7.4, 7.6, 7.8, 8.0, 8.2, 8.4])\n",
    "ax.set_xlim(6.5, 10.6)\n",
    "ax.set_xticks([7, 8, 9, 10])\n",
    "# plt.savefig('./figures/exp1_init_rt_comp_cost.pdf', bbox_inches = \"tight\")"
   ]
  },
  {
   "cell_type": "code",
   "execution_count": 15,
   "id": "7a4d306a",
   "metadata": {},
   "outputs": [
    {
     "name": "stdout",
     "output_type": "stream",
     "text": [
      "Linear mixed model fit by maximum likelihood . t-tests use Satterthwaite's\n",
      "  method [lmerModLmerTest]\n",
      "Formula: \n",
      "initial_rt_log_milliseconds ~ (1 | sessionId) + trial + expected_cognitive_cost\n",
      "   Data: pmod_stats\n",
      "\n",
      "     AIC      BIC   logLik deviance df.resid \n",
      " 12621.2  12656.1  -6305.6  12611.2     7956 \n",
      "\n",
      "Scaled residuals: \n",
      "    Min      1Q  Median      3Q     Max \n",
      "-6.8192 -0.6103 -0.0239  0.5936  4.6374 \n",
      "\n",
      "Random effects:\n",
      " Groups    Name        Variance Std.Dev.\n",
      " sessionId (Intercept) 0.4837   0.6955  \n",
      " Residual              0.2350   0.4848  \n",
      "Number of obs: 7961, groups:  sessionId, 419\n",
      "\n",
      "Fixed effects:\n",
      "                          Estimate Std. Error         df t value Pr(>|t|)    \n",
      "(Intercept)              7.299e+00  6.799e-02  3.867e+03 107.363  < 2e-16 ***\n",
      "trial                   -6.881e-03  9.999e-04  7.550e+03  -6.881  6.4e-12 ***\n",
      "expected_cognitive_cost  6.478e-02  6.378e-03  7.917e+03  10.156  < 2e-16 ***\n",
      "---\n",
      "Signif. codes:  0 ‘***’ 0.001 ‘**’ 0.01 ‘*’ 0.05 ‘.’ 0.1 ‘ ’ 1\n",
      "\n",
      "Correlation of Fixed Effects:\n",
      "            (Intr) trial \n",
      "trial       -0.038       \n",
      "expctd_cgn_ -0.850 -0.126\n"
     ]
    }
   ],
   "source": [
    "%%R -i pmod_stats -o model_comparison,cost_mod_coeff\n",
    "base_mod <- lmer(\n",
    "    initial_rt_log_milliseconds ~ (1 | sessionId),\n",
    "    data=pmod_stats,\n",
    "    REML=F\n",
    ")\n",
    "trial_mod <- update(base_mod, . ~ . + trial, REML=F)\n",
    "cost_mod <- update(base_mod, . ~ . + trial + expected_cognitive_cost, REML=F)\n",
    "model_comparison <- anova(\n",
    "    base_mod,\n",
    "    trial_mod,\n",
    "    cost_mod,\n",
    "    test=\"LRT\"\n",
    ")\n",
    "cost_mod_coeff <- summary(cost_mod)$coeff\n",
    "summary(cost_mod)"
   ]
  },
  {
   "cell_type": "code",
   "execution_count": 16,
   "id": "f0cbd91b-692b-4518-bca7-afc6f50fbe68",
   "metadata": {},
   "outputs": [],
   "source": [
    "cost_mod_coeff_df = pd.DataFrame(\n",
    "    data=cost_mod_coeff,\n",
    "    index=[\"Intercept\", \"trial\", \"expected_cognitive_cost\"],\n",
    "    columns=[\"Estimate\", \"Std. Error\", \"df\", \"t value\", \"Pr(>|t|)\"]\n",
    ")"
   ]
  },
  {
   "cell_type": "code",
   "execution_count": 17,
   "id": "3be24d1b",
   "metadata": {},
   "outputs": [
    {
     "name": "stdout",
     "output_type": "stream",
     "text": [
      "Saved to ./inputs/exp1_trial_mod_RT_cost_pred_chisq_test.tex:\n",
      "$\\chi^2(1) = 31.48, p = 6.1 \\times 10^{-8}$\n",
      "Saved to ./inputs/exp1_cost_mod_RT_cost_pred_chisq_test.tex:\n",
      "$\\chi^2(1) = 102.37, p = 1.4 \\times 10^{-23}$\n"
     ]
    },
    {
     "name": "stderr",
     "output_type": "stream",
     "text": [
      "/Users/markho/Dropbox/Cog-Sci-Research/Projects-active/construal-shifting-public/env37/lib/python3.7/site-packages/ipykernel_launcher.py:2: RuntimeWarning: invalid value encountered in double_scalars\n",
      "  \n"
     ]
    }
   ],
   "source": [
    "model_comparison['summary'] = model_comparison.apply(\n",
    "    lambda r: f\"$\\chi^{2}({r['Chi Df']:.0f}) = {r['Chisq']:.2f}, p = {latex_float(r['Pr(>Chisq)']*3)}$\",\n",
    "    axis=1\n",
    ")\n",
    "model_comparison['model'] = model_comparison.index\n",
    "for _, row in model_comparison.iterrows():\n",
    "    if 'base' in row['model']:\n",
    "        continue\n",
    "    save_paper_input(f\"exp1_{row['model']}_RT_cost_pred_chisq_test\", row['summary'])"
   ]
  },
  {
   "cell_type": "code",
   "execution_count": 18,
   "id": "79e48d10-6fac-488c-a106-323aa57730d3",
   "metadata": {},
   "outputs": [
    {
     "data": {
      "text/html": [
       "<div>\n",
       "<style scoped>\n",
       "    .dataframe tbody tr th:only-of-type {\n",
       "        vertical-align: middle;\n",
       "    }\n",
       "\n",
       "    .dataframe tbody tr th {\n",
       "        vertical-align: top;\n",
       "    }\n",
       "\n",
       "    .dataframe thead th {\n",
       "        text-align: right;\n",
       "    }\n",
       "</style>\n",
       "<table border=\"1\" class=\"dataframe\">\n",
       "  <thead>\n",
       "    <tr style=\"text-align: right;\">\n",
       "      <th></th>\n",
       "      <th>Estimate</th>\n",
       "      <th>Std. Error</th>\n",
       "      <th>df</th>\n",
       "      <th>t value</th>\n",
       "      <th>Pr(&gt;|t|)</th>\n",
       "    </tr>\n",
       "  </thead>\n",
       "  <tbody>\n",
       "    <tr>\n",
       "      <th>Intercept</th>\n",
       "      <td>7.299335</td>\n",
       "      <td>0.067987</td>\n",
       "      <td>3866.842335</td>\n",
       "      <td>107.363015</td>\n",
       "      <td>0.000000e+00</td>\n",
       "    </tr>\n",
       "    <tr>\n",
       "      <th>trial</th>\n",
       "      <td>-0.006881</td>\n",
       "      <td>0.001000</td>\n",
       "      <td>7549.995044</td>\n",
       "      <td>-6.881478</td>\n",
       "      <td>6.397879e-12</td>\n",
       "    </tr>\n",
       "    <tr>\n",
       "      <th>expected_cognitive_cost</th>\n",
       "      <td>0.064777</td>\n",
       "      <td>0.006378</td>\n",
       "      <td>7917.490861</td>\n",
       "      <td>10.155825</td>\n",
       "      <td>4.383295e-24</td>\n",
       "    </tr>\n",
       "  </tbody>\n",
       "</table>\n",
       "</div>"
      ],
      "text/plain": [
       "                         Estimate  Std. Error           df     t value  \\\n",
       "Intercept                7.299335    0.067987  3866.842335  107.363015   \n",
       "trial                   -0.006881    0.001000  7549.995044   -6.881478   \n",
       "expected_cognitive_cost  0.064777    0.006378  7917.490861   10.155825   \n",
       "\n",
       "                             Pr(>|t|)  \n",
       "Intercept                0.000000e+00  \n",
       "trial                    6.397879e-12  \n",
       "expected_cognitive_cost  4.383295e-24  "
      ]
     },
     "execution_count": 18,
     "metadata": {},
     "output_type": "execute_result"
    }
   ],
   "source": [
    "cost_mod_coeff_df"
   ]
  },
  {
   "cell_type": "code",
   "execution_count": 19,
   "id": "d04d9b30-244b-4ac9-8f52-870e8f8cbf1d",
   "metadata": {},
   "outputs": [
    {
     "name": "stdout",
     "output_type": "stream",
     "text": [
      "Saved to ./inputs/exp1_Intercept_RT_cost_pred_reg_est.tex:\n",
      "$\\beta = 7.299$, S.E. $= 0.068$\n",
      "Saved to ./inputs/exp1_trial_RT_cost_pred_reg_est.tex:\n",
      "$\\beta = -0.007$, S.E. $= 0.001$\n",
      "Saved to ./inputs/exp1_expected_cognitive_cost_RT_cost_pred_reg_est.tex:\n",
      "$\\beta = 0.065$, S.E. $= 0.006$\n"
     ]
    }
   ],
   "source": [
    "cost_mod_coeff_df['summary'] = cost_mod_coeff_df.apply(\n",
    "    lambda r: f\"$\\\\beta = {r['Estimate']:.3f}$, S.E. $= {r['Std. Error']:.3f}$\",\n",
    "    axis=1\n",
    ")\n",
    "cost_mod_coeff_df['summary']\n",
    "for idx, row in cost_mod_coeff_df.iterrows():\n",
    "    save_paper_input(f\"exp1_{idx}_RT_cost_pred_reg_est\", row['summary'])"
   ]
  },
  {
   "cell_type": "code",
   "execution_count": null,
   "id": "ffc126dc-7525-4ba1-89a5-8a58dbaa7b93",
   "metadata": {},
   "outputs": [],
   "source": []
  }
 ],
 "metadata": {
  "kernelspec": {
   "display_name": "Python 3 (ipykernel)",
   "language": "python",
   "name": "python3"
  },
  "language_info": {
   "codemirror_mode": {
    "name": "ipython",
    "version": 3
   },
   "file_extension": ".py",
   "mimetype": "text/x-python",
   "name": "python",
   "nbconvert_exporter": "python",
   "pygments_lexer": "ipython3",
   "version": "3.7.4"
  }
 },
 "nbformat": 4,
 "nbformat_minor": 5
}
