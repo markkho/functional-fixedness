{
 "cells": [
  {
   "cell_type": "code",
   "execution_count": 1,
   "id": "8a085265-17e0-4088-b395-16eaf9c1f6c2",
   "metadata": {},
   "outputs": [],
   "source": [
    "%reload_ext autoreload\n",
    "%autoreload 2"
   ]
  },
  {
   "cell_type": "code",
   "execution_count": 2,
   "id": "d23942e9-267d-470a-901b-4b851f242928",
   "metadata": {},
   "outputs": [],
   "source": [
    "%load_ext rpy2.ipython"
   ]
  },
  {
   "cell_type": "code",
   "execution_count": 3,
   "id": "36a156cf-cfa1-4382-b1cb-39be03e005c8",
   "metadata": {},
   "outputs": [
    {
     "name": "stderr",
     "output_type": "stream",
     "text": [
      "R[write to console]: Loading required package: Matrix\n",
      "\n",
      "R[write to console]: \n",
      "Attaching package: ‘lmerTest’\n",
      "\n",
      "\n",
      "R[write to console]: The following object is masked from ‘package:lme4’:\n",
      "\n",
      "    lmer\n",
      "\n",
      "\n",
      "R[write to console]: The following object is masked from ‘package:stats’:\n",
      "\n",
      "    step\n",
      "\n",
      "\n"
     ]
    }
   ],
   "source": [
    "%%R\n",
    "library(lme4)\n",
    "library(lmerTest)"
   ]
  },
  {
   "cell_type": "code",
   "execution_count": 4,
   "id": "1e8dfd26-7a8a-4921-a649-41e96dae54f2",
   "metadata": {},
   "outputs": [],
   "source": [
    "import matplotlib\n",
    "font = {\n",
    "    'family' : 'Arial',\n",
    "    'weight' : 'normal',\n",
    "    'size'   : 12\n",
    "}\n",
    "\n",
    "matplotlib.rc('font', **font)"
   ]
  },
  {
   "cell_type": "code",
   "execution_count": 5,
   "id": "ef9369d8-bed9-479c-8d4e-2bde2d5c0397",
   "metadata": {},
   "outputs": [],
   "source": [
    "def save_paper_input(input_name, input_str):\n",
    "    filename = f\"./inputs/{input_name}.tex\"\n",
    "    with open(filename, 'w') as file:\n",
    "        file.write(input_str)\n",
    "    print(f\"Saved to {filename}:\\n{input_str}\")\n",
    "    \n",
    "def latex_float(f):\n",
    "    float_str = \"{0:.2g}\".format(f)\n",
    "    if \"e\" in float_str:\n",
    "        base, exponent = float_str.split(\"e\")\n",
    "        return r\"{0} \\times 10^{{{1}}}\".format(base, int(exponent))\n",
    "    else:\n",
    "        return float_str"
   ]
  },
  {
   "cell_type": "code",
   "execution_count": 6,
   "id": "0a2e529e-9ed8-4fb8-81af-67eff4b630df",
   "metadata": {},
   "outputs": [],
   "source": [
    "import json\n",
    "from matplotlib import pyplot as plt"
   ]
  },
  {
   "cell_type": "code",
   "execution_count": 7,
   "id": "bb36a621-860c-4538-9e70-fa5c763adf81",
   "metadata": {},
   "outputs": [],
   "source": [
    "import numpy as np\n",
    "import pandas as pd\n",
    "import seaborn as sns\n",
    "\n",
    "from data_analysis import download_data, download_condition_counts, calc_condition_counts, ExperimentDataLoader\n",
    "from itertools import product\n",
    "from frozendict import frozendict\n",
    "from tqdm.notebook import tqdm\n",
    "from functools import lru_cache\n",
    "from construal_shifting.task_modeling.participant_model import ParticipantModel\n",
    "from construal_shifting.task_modeling.construal_trial_model import ConstrualTrialModel\n",
    "\n",
    "exp_data = ExperimentDataLoader(\n",
    "    trialdata_file=\"rawtrialdata-anon.csv\"\n",
    ")"
   ]
  },
  {
   "cell_type": "markdown",
   "id": "c7f100fc-07cd-4e7a-815b-d948de9a572e",
   "metadata": {},
   "source": [
    "# Analysis with fit model"
   ]
  },
  {
   "cell_type": "code",
   "execution_count": 8,
   "id": "6fe7a223-fab4-4d05-ba8f-5976909377d0",
   "metadata": {},
   "outputs": [],
   "source": [
    "model_fit_df = pd.read_pickle('./data/model_fits.pkl')\n",
    "model_fit_df['df'] = model_fit_df[[\n",
    "    'fit_construal_cost_weight', 'fit_construal_set_stickiness', 'fit_action_random_choice'\n",
    "]].apply(lambda r: sum([t == True for t in r]), axis=1)\n",
    "model_fit_df['AIC'] = model_fit_df.apply(lambda r: 2*r['df'] + r['NLL'], axis=1)\n",
    "model_fit_df['dAIC'] = model_fit_df['AIC'] - model_fit_df['AIC'].min()"
   ]
  },
  {
   "cell_type": "code",
   "execution_count": 9,
   "id": "362a4b58-d2a3-4168-9235-a3e6e5b83b66",
   "metadata": {},
   "outputs": [
    {
     "name": "stdout",
     "output_type": "stream",
     "text": [
      "\\begin{tabular}{lrrrrrr}\n",
      "\\toprule\n",
      "                          Model &  $\\lambda_{\\text{Complexity}}$ &  $\\lambda_{\\text{Switch}}$ &  $\\varepsilon$ &  df &    AIC &  $\\Delta$AIC \\\\\n",
      "\\midrule\n",
      "   No complexity or switch cost &                           0.00 &                       0.00 &           0.09 &   1 & 136793 &         2814 \\\\\n",
      "           Only complexity cost &                           1.86 &                       0.00 &           0.09 &   2 & 135286 &         1307 \\\\\n",
      "               Only switch cost &                           0.00 &                       8.48 &           0.09 &   2 & 134782 &          803 \\\\\n",
      "Both complexity and switch cost &                           1.70 &                       5.33 &           0.09 &   3 & 133978 &            0 \\\\\n",
      "\\bottomrule\n",
      "\\end{tabular}\n",
      "\n"
     ]
    }
   ],
   "source": [
    "model_fits = model_fit_df.copy()\n",
    "model_fits['Model'] = [\n",
    "    \"No complexity or switch cost\",\n",
    "    \"Only switch cost\",\n",
    "    \"Only complexity cost\",\n",
    "    \"Both complexity and switch cost\"\n",
    "]\n",
    "model_fits = model_fits[['Model', 'construal_cost_weight', 'construal_set_stickiness', 'action_random_choice', 'df', 'AIC', 'dAIC']]\n",
    "model_fits = model_fits.sort_values(by=\"dAIC\", ascending=False)\n",
    "model_fits = model_fits.round(dict(\n",
    "    action_random_choice=2, \n",
    "    construal_cost_weight=2,\n",
    "    construal_set_stickiness=2,\n",
    "))\n",
    "model_fits['AIC'] = model_fits['AIC'].astype(int)\n",
    "model_fits['dAIC'] = model_fits['dAIC'].astype(int)\n",
    "model_fits = model_fits.rename(columns=dict(\n",
    "    action_random_choice=r'$\\varepsilon$', \n",
    "    construal_cost_weight=r'$\\lambda_{\\text{Complexity}}$',\n",
    "    construal_set_stickiness=r'$\\lambda_{\\text{Switch}}$',\n",
    "    AIC=\"AIC\",\n",
    "    dAIC=r\"$\\Delta$AIC\"\n",
    "))\n",
    "model_fits_table = model_fits.to_latex(\n",
    "    # na_rep=\"---\", \n",
    "    escape=False,\n",
    "    column_format=\"lrrrrrr\",\n",
    "    # col_space=1,\n",
    "    index=False\n",
    ")\n",
    "# model_fits\n",
    "print(model_fits_table)"
   ]
  },
  {
   "cell_type": "code",
   "execution_count": 10,
   "id": "4028f94c-c65f-4ec4-bc2c-593ac8f7e51b",
   "metadata": {},
   "outputs": [
    {
     "data": {
      "text/html": [
       "<div>\n",
       "<style scoped>\n",
       "    .dataframe tbody tr th:only-of-type {\n",
       "        vertical-align: middle;\n",
       "    }\n",
       "\n",
       "    .dataframe tbody tr th {\n",
       "        vertical-align: top;\n",
       "    }\n",
       "\n",
       "    .dataframe thead th {\n",
       "        text-align: right;\n",
       "    }\n",
       "</style>\n",
       "<table border=\"1\" class=\"dataframe\">\n",
       "  <thead>\n",
       "    <tr style=\"text-align: right;\">\n",
       "      <th></th>\n",
       "      <th>Model</th>\n",
       "      <th>construal_cost_weight</th>\n",
       "      <th>construal_set_stickiness</th>\n",
       "      <th>action_random_choice</th>\n",
       "      <th>df</th>\n",
       "      <th>AIC</th>\n",
       "      <th>dAIC</th>\n",
       "    </tr>\n",
       "  </thead>\n",
       "  <tbody>\n",
       "    <tr>\n",
       "      <th>0</th>\n",
       "      <td>No complexity or switch cost</td>\n",
       "      <td>0.00</td>\n",
       "      <td>0.00</td>\n",
       "      <td>0.09</td>\n",
       "      <td>1</td>\n",
       "      <td>136793.34</td>\n",
       "      <td>2814.53</td>\n",
       "    </tr>\n",
       "    <tr>\n",
       "      <th>2</th>\n",
       "      <td>Only complexity cost</td>\n",
       "      <td>1.86</td>\n",
       "      <td>0.00</td>\n",
       "      <td>0.09</td>\n",
       "      <td>2</td>\n",
       "      <td>135286.65</td>\n",
       "      <td>1307.84</td>\n",
       "    </tr>\n",
       "    <tr>\n",
       "      <th>1</th>\n",
       "      <td>Only switch cost</td>\n",
       "      <td>0.00</td>\n",
       "      <td>8.48</td>\n",
       "      <td>0.09</td>\n",
       "      <td>2</td>\n",
       "      <td>134782.77</td>\n",
       "      <td>803.96</td>\n",
       "    </tr>\n",
       "    <tr>\n",
       "      <th>3</th>\n",
       "      <td>Both complexity and switch cost</td>\n",
       "      <td>1.70</td>\n",
       "      <td>5.33</td>\n",
       "      <td>0.09</td>\n",
       "      <td>3</td>\n",
       "      <td>133978.81</td>\n",
       "      <td>0.00</td>\n",
       "    </tr>\n",
       "  </tbody>\n",
       "</table>\n",
       "</div>"
      ],
      "text/plain": [
       "                             Model  construal_cost_weight  \\\n",
       "0     No complexity or switch cost                   0.00   \n",
       "2             Only complexity cost                   1.86   \n",
       "1                 Only switch cost                   0.00   \n",
       "3  Both complexity and switch cost                   1.70   \n",
       "\n",
       "   construal_set_stickiness  action_random_choice  df        AIC     dAIC  \n",
       "0                      0.00                  0.09   1  136793.34  2814.53  \n",
       "2                      0.00                  0.09   2  135286.65  1307.84  \n",
       "1                      8.48                  0.09   2  134782.77   803.96  \n",
       "3                      5.33                  0.09   3  133978.81     0.00  "
      ]
     },
     "execution_count": 10,
     "metadata": {},
     "output_type": "execute_result"
    }
   ],
   "source": [
    "model_fits = model_fit_df.copy()\n",
    "model_fits['Model'] = [\n",
    "    \"No complexity or switch cost\",\n",
    "    \"Only switch cost\",\n",
    "    \"Only complexity cost\",\n",
    "    \"Both complexity and switch cost\"\n",
    "]\n",
    "model_fits = model_fits[['Model', 'construal_cost_weight', 'construal_set_stickiness', 'action_random_choice', 'df', 'AIC', 'dAIC']]\n",
    "model_fits = model_fits.sort_values(by=\"dAIC\", ascending=False)\n",
    "model_fits.round(2)"
   ]
  },
  {
   "cell_type": "markdown",
   "id": "083ad0f6-01d1-4145-848d-71b5c07d5477",
   "metadata": {},
   "source": [
    "## Analysis of RTs with model"
   ]
  },
  {
   "cell_type": "code",
   "execution_count": 11,
   "id": "84bbe7a5",
   "metadata": {},
   "outputs": [
    {
     "ename": "NameError",
     "evalue": "name 'pmod_stats' is not defined",
     "output_type": "error",
     "traceback": [
      "\u001b[0;31m---------------------------------------------------------------------------\u001b[0m",
      "\u001b[0;31mNameError\u001b[0m                                 Traceback (most recent call last)",
      "\u001b[0;32m/var/folders/dj/6zspyyy15dj0n2bg186j6b8h0000gn/T/ipykernel_86698/3162077264.py\u001b[0m in \u001b[0;36m<module>\u001b[0;34m\u001b[0m\n\u001b[0;32m----> 1\u001b[0;31m \u001b[0mtest_trial_stats\u001b[0m \u001b[0;34m=\u001b[0m \u001b[0mpmod_stats\u001b[0m\u001b[0;34m[\u001b[0m\u001b[0mpmod_stats\u001b[0m\u001b[0;34m[\u001b[0m\u001b[0;34m'trial'\u001b[0m\u001b[0;34m]\u001b[0m \u001b[0;34m>=\u001b[0m \u001b[0;36m12\u001b[0m\u001b[0;34m]\u001b[0m\u001b[0;34m\u001b[0m\u001b[0;34m\u001b[0m\u001b[0m\n\u001b[0m",
      "\u001b[0;31mNameError\u001b[0m: name 'pmod_stats' is not defined"
     ]
    }
   ],
   "source": [
    "test_trial_stats = pmod_stats[pmod_stats['trial'] >= 12]"
   ]
  },
  {
   "cell_type": "code",
   "execution_count": 12,
   "id": "8e2ff56f-c65d-4b55-9ecf-c883acad3724",
   "metadata": {},
   "outputs": [],
   "source": [
    "test_trials = pd.read_json('./data/test_trial_stats.json')\n",
    "pmod_stats_test_trials = pmod_stats[pmod_stats['grid_name'].apply(lambda n: 'test' in n)].reset_index(drop=True)\n",
    "pmod_stats_training_trials = pmod_stats[pmod_stats['grid_name'].apply(lambda n: 'test' not in n)].reset_index(drop=True)\n",
    "pmod_stats_test_trials['test_trial_num'] = pmod_stats_test_trials['trial'] - 12\n",
    "pmod_stats_test_trials = pmod_stats_test_trials.merge(\n",
    "    test_trials[['sessionId', 'test_trial_num', 'visited_critical_notch']],\n",
    "    on=['sessionId', 'test_trial_num']\n",
    ")"
   ]
  },
  {
   "cell_type": "code",
   "execution_count": 13,
   "id": "2e410107-05c7-4b2f-bd76-4956f38f57f7",
   "metadata": {},
   "outputs": [],
   "source": [
    "def bootstrap_ci(\n",
    "    x,\n",
    "    n_resamplings = 10000,\n",
    "    ci = .95,\n",
    "):\n",
    "    samples = np.random.choice(x, size=(n_resamplings, len(x)))\n",
    "    sample_stat = [np.mean(samp) for samp in samples]\n",
    "    sample_stat = sorted(sample_stat)\n",
    "    lower_bound = sample_stat[int(n_resamplings*((1-ci)/2))]\n",
    "    upper_bound = sample_stat[int(n_resamplings*(ci+(1-ci)/2))]\n",
    "    real_mean = np.mean(x)\n",
    "    return real_mean - lower_bound, upper_bound - real_mean"
   ]
  },
  {
   "cell_type": "code",
   "execution_count": 14,
   "id": "61944687-dbe8-4aa0-a985-68e2631ccf98",
   "metadata": {},
   "outputs": [
    {
     "data": {
      "image/png": "[encoded data removed]",
      "text/plain": [
       "<Figure size 600x600 with 1 Axes>"
      ]
     },
     "metadata": {
      "needs_background": "light"
     },
     "output_type": "display_data"
    }
   ],
   "source": [
    "fig, ax = plt.subplots(1, 1, figsize=(4, 4), dpi=150)\n",
    "test_means = pmod_stats_test_trials.groupby(['grid_name', 'trial_type', 'visited_critical_notch'])[[\n",
    "    'initial_rt_log_milliseconds',\n",
    "    'expected_cognitive_cost',\n",
    "]].mean().reset_index()\n",
    "test_err = pmod_stats_test_trials.groupby(['grid_name', 'trial_type', 'visited_critical_notch'])[[\n",
    "    'initial_rt_log_milliseconds',\n",
    "    'expected_cognitive_cost',\n",
    "]].agg(bootstrap_ci).reset_index()\n",
    "train_means = pmod_stats_training_trials.groupby(['grid_name', 'trial_type', 'condition_name'])[[\n",
    "    'initial_rt_log_milliseconds',\n",
    "    'expected_cognitive_cost',\n",
    "]].mean().reset_index()\n",
    "train_err = pmod_stats_training_trials.groupby(['grid_name', 'trial_type', 'condition_name'])[[\n",
    "    'initial_rt_log_milliseconds',\n",
    "    'expected_cognitive_cost',\n",
    "]].agg(bootstrap_ci).reset_index()\n",
    "\n",
    "shared_plot_params = dict(\n",
    "    markersize=5,\n",
    "    lw=0\n",
    ")\n",
    "ax.errorbar(\n",
    "    x=test_means[test_means['visited_critical_notch']]['expected_cognitive_cost'],\n",
    "    y=test_means[test_means['visited_critical_notch']]['initial_rt_log_milliseconds'],\n",
    "    xerr=np.array(list(test_err[test_err['visited_critical_notch']]['expected_cognitive_cost'])).T,\n",
    "    yerr=np.array(list(test_err[test_err['visited_critical_notch']]['initial_rt_log_milliseconds'])).T,\n",
    "    marker='s',\n",
    "    color=\"#005AB5\",\n",
    "    elinewidth=.5,\n",
    "    capsize=2,\n",
    "    capthick=.5,\n",
    "    **shared_plot_params\n",
    ")\n",
    "ax.errorbar(\n",
    "    x=test_means[~test_means['visited_critical_notch']]['expected_cognitive_cost'],\n",
    "    y=test_means[~test_means['visited_critical_notch']]['initial_rt_log_milliseconds'],\n",
    "    xerr=np.array(list(test_err[test_err['visited_critical_notch']]['expected_cognitive_cost'])).T,\n",
    "    yerr=np.array(list(test_err[test_err['visited_critical_notch']]['initial_rt_log_milliseconds'])).T,\n",
    "    marker='s',\n",
    "    color='red',\n",
    "    elinewidth=.5,\n",
    "    capsize=2,\n",
    "    capthick=.5,\n",
    "    **shared_plot_params\n",
    ")\n",
    "ax.errorbar(\n",
    "    x=train_means[train_means['condition_name'] == 'c'*12]['expected_cognitive_cost'],\n",
    "    y=train_means[train_means['condition_name'] == 'c'*12]['initial_rt_log_milliseconds'],\n",
    "    xerr=np.array(list(train_err[train_err['condition_name'] == 'c'*12]['expected_cognitive_cost'])).T,\n",
    "    yerr=np.array(list(train_err[train_err['condition_name'] == 'c'*12]['initial_rt_log_milliseconds'])).T,\n",
    "    marker='x',\n",
    "    color='red',\n",
    "    elinewidth=.5,\n",
    "    capsize=2,\n",
    "    capthick=.5,\n",
    "    **shared_plot_params,\n",
    "    markerfacecolor='none',\n",
    ")\n",
    "ax.errorbar(\n",
    "    x=train_means[train_means['condition_name'] == 'f'*12]['expected_cognitive_cost'],\n",
    "    y=train_means[train_means['condition_name'] == 'f'*12]['initial_rt_log_milliseconds'],\n",
    "    xerr=np.array(list(train_err[train_err['condition_name'] == 'f'*12]['expected_cognitive_cost'])).T,\n",
    "    yerr=np.array(list(train_err[train_err['condition_name'] == 'f'*12]['initial_rt_log_milliseconds'])).T,\n",
    "    marker='x',\n",
    "    color=\"#005AB5\",\n",
    "    elinewidth=.5,\n",
    "    capsize=2,\n",
    "    capthick=.5,\n",
    "    **shared_plot_params,\n",
    "    markerfacecolor='none',\n",
    ")\n",
    "ax.set_ylabel(\n",
    "    \"First Move\\nReaction Time\\n(log ms)\",\n",
    "    rotation=\"horizontal\",\n",
    "    labelpad=45,\n",
    "    va='center'\n",
    ")\n",
    "ax.set_xlabel(\"Estimated Complexity Cost\")\n",
    "ax.set_ylim(ax.get_ylim()[0], 8.5)\n",
    "ax.set_xlim(6.5, 10.6)\n",
    "plt.savefig('./figures/exp1_init_rt_comp_cost.pdf', bbox_inches = \"tight\", dpi=300)"
   ]
  },
  {
   "cell_type": "code",
   "execution_count": 15,
   "id": "511ad648-90f8-4d5c-ae7f-4a01c8e1a3fa",
   "metadata": {},
   "outputs": [
    {
     "data": {
      "image/png": "[encoded data removed]",
      "text/plain": [
       "<Figure size 600x180 with 1 Axes>"
      ]
     },
     "metadata": {
      "needs_background": "light"
     },
     "output_type": "display_data"
    }
   ],
   "source": [
    "fig, ax = plt.subplots(1, 1, figsize=(4, 1.2), dpi=150)\n",
    "ax.plot(\n",
    "    [0],\n",
    "    [4],\n",
    "    marker='x',\n",
    "    color=\"#005AB5\",\n",
    "    markersize=10\n",
    ")\n",
    "ax.plot(\n",
    "    [0],\n",
    "    [3],\n",
    "    marker='x',\n",
    "    color=\"red\",\n",
    "    markersize=10\n",
    ")\n",
    "ax.plot(\n",
    "    [0],\n",
    "    [2],\n",
    "    marker='s',\n",
    "    color=\"#005AB5\",\n",
    "    markersize=10\n",
    ")\n",
    "ax.plot(\n",
    "    [0],\n",
    "    [1],\n",
    "    marker='s',\n",
    "    color=\"red\",\n",
    "    markersize=10\n",
    ")\n",
    "ax.set_xlim(-.005, .1)\n",
    "ax.set_ylim(.5, 4.5)\n",
    "ax.text(\n",
    "    0.005, 3.97,\n",
    "    \"Notch-Necessary Training Mazes\",\n",
    "    va='center'\n",
    ")\n",
    "ax.text(\n",
    "    0.005, 2.97,\n",
    "    \"Notch-Unnecessary Training Mazes\",\n",
    "    va='center'\n",
    ")\n",
    "ax.text(\n",
    "    0.005, 1.97,\n",
    "    \"Notch-Occupied Test Mazes\",\n",
    "    va='center'\n",
    ")\n",
    "ax.text(\n",
    "    0.005, .97,\n",
    "    \"Notch-Unoccupied Test Mazes\",\n",
    "    va='center'\n",
    ")\n",
    "ax.axis('off')\n",
    "plt.savefig('./figures/exp1_init_rt_comp_cost-legend.pdf', bbox_inches = \"tight\", dpi=300)"
   ]
  },
  {
   "cell_type": "code",
   "execution_count": 16,
   "id": "04fcae56-c335-4950-82dd-71df5959889f",
   "metadata": {},
   "outputs": [
    {
     "name": "stdout",
     "output_type": "stream",
     "text": [
      "Linear mixed model fit by maximum likelihood . t-tests use Satterthwaite's\n",
      "  method [lmerModLmerTest]\n",
      "Formula: \n",
      "initial_rt_log_milliseconds ~ (1 | sessionId) + trial + expected_cognitive_cost\n",
      "   Data: pmod_stats\n",
      "\n",
      "     AIC      BIC   logLik deviance df.resid \n",
      " 12622.5  12657.5  -6306.3  12612.5     7956 \n",
      "\n",
      "Scaled residuals: \n",
      "    Min      1Q  Median      3Q     Max \n",
      "-6.8204 -0.6097 -0.0233  0.5949  4.6241 \n",
      "\n",
      "Random effects:\n",
      " Groups    Name        Variance Std.Dev.\n",
      " sessionId (Intercept) 0.4842   0.6959  \n",
      " Residual              0.2351   0.4848  \n",
      "Number of obs: 7961, groups:  sessionId, 419\n",
      "\n",
      "Fixed effects:\n",
      "                          Estimate Std. Error         df t value Pr(>|t|)    \n",
      "(Intercept)              7.302e+00  6.810e-02  3.889e+03 107.219  < 2e-16 ***\n",
      "trial                   -6.808e-03  9.992e-04  7.549e+03  -6.814 1.03e-11 ***\n",
      "expected_cognitive_cost  6.406e-02  6.352e-03  7.913e+03  10.086  < 2e-16 ***\n",
      "---\n",
      "Signif. codes:  0 ‘***’ 0.001 ‘**’ 0.01 ‘*’ 0.05 ‘.’ 0.1 ‘ ’ 1\n",
      "\n",
      "Correlation of Fixed Effects:\n",
      "            (Intr) trial \n",
      "trial       -0.043       \n",
      "expctd_cgn_ -0.850 -0.120\n"
     ]
    }
   ],
   "source": [
    "%%R -i pmod_stats -o model_comparison,cost_mod_coeff\n",
    "base_mod <- lmer(\n",
    "    initial_rt_log_milliseconds ~ (1 | sessionId),\n",
    "    data=pmod_stats,\n",
    "    REML=F\n",
    ")\n",
    "trial_mod <- update(base_mod, . ~ . + trial, REML=F)\n",
    "cost_mod <- update(base_mod, . ~ . + trial + expected_cognitive_cost, REML=F)\n",
    "model_comparison <- anova(\n",
    "    base_mod,\n",
    "    trial_mod,\n",
    "    cost_mod,\n",
    "    test=\"LRT\"\n",
    ")\n",
    "cost_mod_coeff <- summary(cost_mod)$coeff\n",
    "summary(cost_mod)"
   ]
  },
  {
   "cell_type": "code",
   "execution_count": 17,
   "id": "f0cbd91b-692b-4518-bca7-afc6f50fbe68",
   "metadata": {},
   "outputs": [],
   "source": [
    "cost_mod_coeff_df = pd.DataFrame(\n",
    "    data=cost_mod_coeff,\n",
    "    index=[\"Intercept\", \"trial\", \"expected_cognitive_cost\"],\n",
    "    columns=[\"Estimate\", \"Std. Error\", \"df\", \"t value\", \"Pr(>|t|)\"]\n",
    ")"
   ]
  },
  {
   "cell_type": "code",
   "execution_count": 18,
   "id": "0787fb78-f2e4-4d45-96d9-2e8acaae96bb",
   "metadata": {},
   "outputs": [
    {
     "name": "stdout",
     "output_type": "stream",
     "text": [
      "Saved to ./inputs/exp1_trial_mod_RT_cost_pred_chisq_test.tex:\n",
      "$\\chi^2(1) = 31.48, p = 6.1 \\times 10^{-8}$\n",
      "Saved to ./inputs/exp1_cost_mod_RT_cost_pred_chisq_test.tex:\n",
      "$\\chi^2(1) = 100.98, p = 2.8 \\times 10^{-23}$\n"
     ]
    },
    {
     "name": "stderr",
     "output_type": "stream",
     "text": [
      "/Users/markho/Dropbox/Cog-Sci-Research/Projects-active/construal-shifting/env37/lib/python3.7/site-packages/ipykernel_launcher.py:2: RuntimeWarning: invalid value encountered in double_scalars\n",
      "  \n"
     ]
    }
   ],
   "source": [
    "model_comparison['summary'] = model_comparison.apply(\n",
    "    lambda r: f\"$\\chi^{2}({r['Chi Df']:.0f}) = {r['Chisq']:.2f}, p = {latex_float(r['Pr(>Chisq)']*3)}$\",\n",
    "    axis=1\n",
    ")\n",
    "model_comparison['model'] = model_comparison.index\n",
    "for _, row in model_comparison.iterrows():\n",
    "    if 'base' in row['model']:\n",
    "        continue\n",
    "    save_paper_input(f\"exp1_{row['model']}_RT_cost_pred_chisq_test\", row['summary'])"
   ]
  },
  {
   "cell_type": "code",
   "execution_count": 19,
   "id": "79e48d10-6fac-488c-a106-323aa57730d3",
   "metadata": {},
   "outputs": [
    {
     "data": {
      "text/html": [
       "<div>\n",
       "<style scoped>\n",
       "    .dataframe tbody tr th:only-of-type {\n",
       "        vertical-align: middle;\n",
       "    }\n",
       "\n",
       "    .dataframe tbody tr th {\n",
       "        vertical-align: top;\n",
       "    }\n",
       "\n",
       "    .dataframe thead th {\n",
       "        text-align: right;\n",
       "    }\n",
       "</style>\n",
       "<table border=\"1\" class=\"dataframe\">\n",
       "  <thead>\n",
       "    <tr style=\"text-align: right;\">\n",
       "      <th></th>\n",
       "      <th>Estimate</th>\n",
       "      <th>Std. Error</th>\n",
       "      <th>df</th>\n",
       "      <th>t value</th>\n",
       "      <th>Pr(&gt;|t|)</th>\n",
       "    </tr>\n",
       "  </thead>\n",
       "  <tbody>\n",
       "    <tr>\n",
       "      <th>Intercept</th>\n",
       "      <td>7.302106</td>\n",
       "      <td>0.068105</td>\n",
       "      <td>3888.980417</td>\n",
       "      <td>107.218797</td>\n",
       "      <td>0.000000e+00</td>\n",
       "    </tr>\n",
       "    <tr>\n",
       "      <th>trial</th>\n",
       "      <td>-0.006808</td>\n",
       "      <td>0.000999</td>\n",
       "      <td>7548.990373</td>\n",
       "      <td>-6.813550</td>\n",
       "      <td>1.025450e-11</td>\n",
       "    </tr>\n",
       "    <tr>\n",
       "      <th>expected_cognitive_cost</th>\n",
       "      <td>0.064061</td>\n",
       "      <td>0.006352</td>\n",
       "      <td>7912.538371</td>\n",
       "      <td>10.085608</td>\n",
       "      <td>8.902170e-24</td>\n",
       "    </tr>\n",
       "  </tbody>\n",
       "</table>\n",
       "</div>"
      ],
      "text/plain": [
       "                         Estimate  Std. Error           df     t value  \\\n",
       "Intercept                7.302106    0.068105  3888.980417  107.218797   \n",
       "trial                   -0.006808    0.000999  7548.990373   -6.813550   \n",
       "expected_cognitive_cost  0.064061    0.006352  7912.538371   10.085608   \n",
       "\n",
       "                             Pr(>|t|)  \n",
       "Intercept                0.000000e+00  \n",
       "trial                    1.025450e-11  \n",
       "expected_cognitive_cost  8.902170e-24  "
      ]
     },
     "execution_count": 19,
     "metadata": {},
     "output_type": "execute_result"
    }
   ],
   "source": [
    "cost_mod_coeff_df"
   ]
  },
  {
   "cell_type": "code",
   "execution_count": 20,
   "id": "d04d9b30-244b-4ac9-8f52-870e8f8cbf1d",
   "metadata": {},
   "outputs": [
    {
     "name": "stdout",
     "output_type": "stream",
     "text": [
      "Saved to ./inputs/exp1_Intercept_RT_cost_pred_reg_est.tex:\n",
      "$\\beta = 7.302$, S.E. $= 0.068$\n",
      "Saved to ./inputs/exp1_trial_RT_cost_pred_reg_est.tex:\n",
      "$\\beta = -0.007$, S.E. $= 0.001$\n",
      "Saved to ./inputs/exp1_expected_cognitive_cost_RT_cost_pred_reg_est.tex:\n",
      "$\\beta = 0.064$, S.E. $= 0.006$\n"
     ]
    }
   ],
   "source": [
    "cost_mod_coeff_df['summary'] = cost_mod_coeff_df.apply(\n",
    "    lambda r: f\"$\\\\beta = {r['Estimate']:.3f}$, S.E. $= {r['Std. Error']:.3f}$\",\n",
    "    axis=1\n",
    ")\n",
    "cost_mod_coeff_df['summary']\n",
    "for idx, row in cost_mod_coeff_df.iterrows():\n",
    "    save_paper_input(f\"exp1_{idx}_RT_cost_pred_reg_est\", row['summary'])"
   ]
  },
  {
   "cell_type": "code",
   "execution_count": null,
   "id": "ffc126dc-7525-4ba1-89a5-8a58dbaa7b93",
   "metadata": {},
   "outputs": [],
   "source": []
  }
 ],
 "metadata": {
  "kernelspec": {
   "display_name": "Python 3 (ipykernel)",
   "language": "python",
   "name": "python3"
  },
  "language_info": {
   "codemirror_mode": {
    "name": "ipython",
    "version": 3
   },
   "file_extension": ".py",
   "mimetype": "text/x-python",
   "name": "python",
   "nbconvert_exporter": "python",
   "pygments_lexer": "ipython3",
   "version": "3.7.4"
  }
 },
 "nbformat": 4,
 "nbformat_minor": 5
}
