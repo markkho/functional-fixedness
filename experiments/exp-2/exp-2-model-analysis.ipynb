{
 "cells": [
  {
   "cell_type": "code",
   "execution_count": 5,
   "id": "bb36a621-860c-4538-9e70-fa5c763adf81",
   "metadata": {},
   "outputs": [
    {
     "name": "stdout",
     "output_type": "stream",
     "text": [
      "Participant participant_021:anonymized missing trials\n",
      "Trial Indices = [0, 0, 1, 1, 2, 2, 3, 3, 4, 4, 5, 5, 6, 6, 7, 7, 8, 8, 9, 9, 10, 11, 12, 13, 14, 15, 16, 17, 18, 19, 20, 21, 22, 23, 24, 25, 26, 27, 28, 29, 30, 31, 32, 33]; expected [0, 1, 2, 3, 4, 5, 6, 7, 8, 9, 10, 11, 12, 13, 14, 15, 16, 17, 18, 19, 20, 21, 22, 23, 24, 25, 26, 27, 28, 29, 30, 31, 32, 33, 34, 35, 36, 37, 38, 39, 40, 41, 42, 43]\n",
      "Participant participant_096:anonymized missing trials\n",
      "Trial Indices = [0, 0, 1, 2, 3, 4, 5, 6, 7, 8, 9, 10, 11, 12, 13, 14, 15, 16, 17, 18, 19, 20, 21, 22, 23, 24, 25, 26, 27, 28, 29, 30, 31, 32, 33]; expected [0, 1, 2, 3, 4, 5, 6, 7, 8, 9, 10, 11, 12, 13, 14, 15, 16, 17, 18, 19, 20, 21, 22, 23, 24, 25, 26, 27, 28, 29, 30, 31, 32, 33, 34]\n"
     ]
    }
   ],
   "source": [
    "import numpy as np\n",
    "import pandas as pd\n",
    "import seaborn as sns\n",
    "\n",
    "from data_analysis import download_data, download_condition_counts, calc_condition_counts, ExperimentDataLoader\n",
    "from itertools import product\n",
    "from frozendict import frozendict\n",
    "from tqdm.notebook import tqdm\n",
    "from functools import lru_cache\n",
    "from construal_shifting.task_modeling.participant_model import ParticipantModel\n",
    "from construal_shifting.task_modeling.construal_trial_model import ConstrualTrialModel\n",
    "\n",
    "exp_data = ExperimentDataLoader(\n",
    "    trialdata_file=\"rawtrialdata-anon.csv\"\n",
    ")"
   ]
  },
  {
   "attachments": {},
   "cell_type": "markdown",
   "id": "c7f100fc-07cd-4e7a-815b-d948de9a572e",
   "metadata": {},
   "source": [
    "# Analysis with fit model"
   ]
  },
  {
   "cell_type": "code",
   "execution_count": 6,
   "id": "6fe7a223-fab4-4d05-ba8f-5976909377d0",
   "metadata": {},
   "outputs": [],
   "source": [
    "model_fit_df = pd.read_pickle('./data/model_fits.pkl')\n",
    "model_fit_df['df'] = model_fit_df[[\n",
    "    'fit_construal_cost_weight', 'fit_construal_set_stickiness', 'fit_action_random_choice'\n",
    "]].apply(lambda r: sum([t == True for t in r]), axis=1)\n",
    "model_fit_df['AIC'] = model_fit_df.apply(lambda r: 2*r['df'] + r['NLL'], axis=1)\n",
    "model_fit_df['dAIC'] = model_fit_df['AIC'] - model_fit_df['AIC'].min()"
   ]
  },
  {
   "cell_type": "code",
   "execution_count": 8,
   "id": "362a4b58-d2a3-4168-9235-a3e6e5b83b66",
   "metadata": {},
   "outputs": [
    {
     "name": "stdout",
     "output_type": "stream",
     "text": [
      "\\begin{tabular}{lrrrrrr}\n",
      "\\toprule\n",
      "                          Model &  $\\lambda_{\\text{Complexity}}$ &  $\\lambda_{\\text{Switch}}$ &  $\\varepsilon_{\\text{Move}}$ &  df &   AIC &  $\\Delta$AIC \\\\\n",
      "\\midrule\n",
      "   No complexity or switch cost &                           0.00 &                        0.0 &                          0.1 &   1 & 95931 &          239 \\\\\n",
      "               Only switch cost &                           0.08 &                        0.0 &                          0.1 &   2 & 95930 &          238 \\\\\n",
      "           Only complexity cost &                           0.00 &                       10.0 &                          0.1 &   2 & 95762 &           70 \\\\\n",
      "Both complexity and switch cost &                           0.64 &                       10.0 &                          0.1 &   3 & 95691 &            0 \\\\\n",
      "\\bottomrule\n",
      "\\end{tabular}\n",
      "\n"
     ]
    }
   ],
   "source": [
    "model_fits = model_fit_df.copy()\n",
    "model_fits['Model'] = [\n",
    "    \"No complexity or switch cost\",\n",
    "    \"Only switch cost\",\n",
    "    \"Only complexity cost\",\n",
    "    \"Both complexity and switch cost\"\n",
    "]\n",
    "model_fits = model_fits[['Model', 'construal_cost_weight', 'construal_set_stickiness', 'action_random_choice', 'df', 'AIC', 'dAIC']]\n",
    "model_fits = model_fits.sort_values(by=\"dAIC\", ascending=False)\n",
    "model_fits = model_fits.round(dict(\n",
    "    action_random_choice=2, \n",
    "    construal_cost_weight=2,\n",
    "    construal_set_stickiness=2,\n",
    "))\n",
    "model_fits['AIC'] = model_fits['AIC'].astype(int)\n",
    "model_fits['dAIC'] = model_fits['dAIC'].astype(int)\n",
    "model_fits = model_fits.rename(columns=dict(\n",
    "    action_random_choice=r'$\\varepsilon_{\\text{Move}}$', \n",
    "    construal_cost_weight=r'$\\lambda_{\\text{Complexity}}$',\n",
    "    construal_set_stickiness=r'$\\lambda_{\\text{Switch}}$',\n",
    "    AIC=\"AIC\",\n",
    "    dAIC=r\"$\\Delta$AIC\"\n",
    "))\n",
    "model_fits_table = model_fits.to_latex(\n",
    "    # na_rep=\"---\", \n",
    "    escape=False,\n",
    "    column_format=\"lrrrrrr\",\n",
    "    # col_space=1,\n",
    "    index=False\n",
    ")\n",
    "# model_fits\n",
    "print(model_fits_table)"
   ]
  },
  {
   "cell_type": "code",
   "execution_count": 10,
   "id": "4028f94c-c65f-4ec4-bc2c-593ac8f7e51b",
   "metadata": {},
   "outputs": [
    {
     "data": {
      "text/html": [
       "<div>\n",
       "<style scoped>\n",
       "    .dataframe tbody tr th:only-of-type {\n",
       "        vertical-align: middle;\n",
       "    }\n",
       "\n",
       "    .dataframe tbody tr th {\n",
       "        vertical-align: top;\n",
       "    }\n",
       "\n",
       "    .dataframe thead th {\n",
       "        text-align: right;\n",
       "    }\n",
       "</style>\n",
       "<table border=\"1\" class=\"dataframe\">\n",
       "  <thead>\n",
       "    <tr style=\"text-align: right;\">\n",
       "      <th></th>\n",
       "      <th>Model</th>\n",
       "      <th>construal_cost_weight</th>\n",
       "      <th>construal_set_stickiness</th>\n",
       "      <th>action_random_choice</th>\n",
       "      <th>df</th>\n",
       "      <th>AIC</th>\n",
       "      <th>dAIC</th>\n",
       "    </tr>\n",
       "  </thead>\n",
       "  <tbody>\n",
       "    <tr>\n",
       "      <th>0</th>\n",
       "      <td>No complexity or switch cost</td>\n",
       "      <td>0.00</td>\n",
       "      <td>0.0</td>\n",
       "      <td>0.1</td>\n",
       "      <td>1</td>\n",
       "      <td>95931.32</td>\n",
       "      <td>239.43</td>\n",
       "    </tr>\n",
       "    <tr>\n",
       "      <th>1</th>\n",
       "      <td>Only switch cost</td>\n",
       "      <td>0.08</td>\n",
       "      <td>0.0</td>\n",
       "      <td>0.1</td>\n",
       "      <td>2</td>\n",
       "      <td>95930.34</td>\n",
       "      <td>238.45</td>\n",
       "    </tr>\n",
       "    <tr>\n",
       "      <th>2</th>\n",
       "      <td>Only complexity cost</td>\n",
       "      <td>0.00</td>\n",
       "      <td>10.0</td>\n",
       "      <td>0.1</td>\n",
       "      <td>2</td>\n",
       "      <td>95762.44</td>\n",
       "      <td>70.55</td>\n",
       "    </tr>\n",
       "    <tr>\n",
       "      <th>3</th>\n",
       "      <td>Both complexity and switch cost</td>\n",
       "      <td>0.64</td>\n",
       "      <td>10.0</td>\n",
       "      <td>0.1</td>\n",
       "      <td>3</td>\n",
       "      <td>95691.89</td>\n",
       "      <td>0.00</td>\n",
       "    </tr>\n",
       "  </tbody>\n",
       "</table>\n",
       "</div>"
      ],
      "text/plain": [
       "                             Model  construal_cost_weight  \\\n",
       "0     No complexity or switch cost                   0.00   \n",
       "1                 Only switch cost                   0.08   \n",
       "2             Only complexity cost                   0.00   \n",
       "3  Both complexity and switch cost                   0.64   \n",
       "\n",
       "   construal_set_stickiness  action_random_choice  df       AIC    dAIC  \n",
       "0                       0.0                   0.1   1  95931.32  239.43  \n",
       "1                       0.0                   0.1   2  95930.34  238.45  \n",
       "2                      10.0                   0.1   2  95762.44   70.55  \n",
       "3                      10.0                   0.1   3  95691.89    0.00  "
      ]
     },
     "execution_count": 10,
     "metadata": {},
     "output_type": "execute_result"
    }
   ],
   "source": [
    "model_fits = model_fit_df.copy()\n",
    "model_fits['Model'] = [\n",
    "    \"No complexity or switch cost\",\n",
    "    \"Only switch cost\",\n",
    "    \"Only complexity cost\",\n",
    "    \"Both complexity and switch cost\"\n",
    "]\n",
    "model_fits = model_fits[['Model', 'construal_cost_weight', 'construal_set_stickiness', 'action_random_choice', 'df', 'AIC', 'dAIC']]\n",
    "model_fits = model_fits.sort_values(by=\"dAIC\", ascending=False)\n",
    "model_fits.round(2)"
   ]
  },
  {
   "cell_type": "code",
   "execution_count": null,
   "id": "ffc126dc-7525-4ba1-89a5-8a58dbaa7b93",
   "metadata": {},
   "outputs": [],
   "source": []
  }
 ],
 "metadata": {
  "kernelspec": {
   "display_name": "Python 3 (ipykernel)",
   "language": "python",
   "name": "python3"
  },
  "language_info": {
   "codemirror_mode": {
    "name": "ipython",
    "version": 3
   },
   "file_extension": ".py",
   "mimetype": "text/x-python",
   "name": "python",
   "nbconvert_exporter": "python",
   "pygments_lexer": "ipython3",
   "version": "3.7.4"
  }
 },
 "nbformat": 4,
 "nbformat_minor": 5
}
