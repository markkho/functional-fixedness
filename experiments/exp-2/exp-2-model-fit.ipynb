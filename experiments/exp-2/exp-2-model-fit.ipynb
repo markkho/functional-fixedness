{
 "cells": [
  {
   "attachments": {},
   "cell_type": "markdown",
   "id": "932c7b57-36d7-4ebb-9776-6a5a33f1095e",
   "metadata": {},
   "source": [
    "# Fit model parameters"
   ]
  },
  {
   "cell_type": "code",
   "execution_count": 2,
   "id": "74beb80f-a8b6-4417-a643-df4e85ba3e4b",
   "metadata": {},
   "outputs": [],
   "source": [
    "import random\n",
    "\n",
    "import numpy as np\n",
    "import pandas as pd\n",
    "import seaborn as sns\n",
    "\n",
    "from construal_shifting.task_modeling.model_fitter import ModelFitter\n",
    "from construal_shifting.task_modeling.participant_model import ParticipantModel\n",
    "\n",
    "from data_analysis import download_data, download_condition_counts, calc_condition_counts, ExperimentDataLoader\n"
   ]
  },
  {
   "cell_type": "code",
   "execution_count": 3,
   "id": "70385832-b8f7-4406-8b77-5b4b32af3073",
   "metadata": {},
   "outputs": [
    {
     "name": "stdout",
     "output_type": "stream",
     "text": [
      "Participant participant_021:anonymized missing trials\n",
      "Trial Indices = [0, 0, 1, 1, 2, 2, 3, 3, 4, 4, 5, 5, 6, 6, 7, 7, 8, 8, 9, 9, 10, 11, 12, 13, 14, 15, 16, 17, 18, 19, 20, 21, 22, 23, 24, 25, 26, 27, 28, 29, 30, 31, 32, 33]; expected [0, 1, 2, 3, 4, 5, 6, 7, 8, 9, 10, 11, 12, 13, 14, 15, 16, 17, 18, 19, 20, 21, 22, 23, 24, 25, 26, 27, 28, 29, 30, 31, 32, 33, 34, 35, 36, 37, 38, 39, 40, 41, 42, 43]\n",
      "Participant participant_096:anonymized missing trials\n",
      "Trial Indices = [0, 0, 1, 2, 3, 4, 5, 6, 7, 8, 9, 10, 11, 12, 13, 14, 15, 16, 17, 18, 19, 20, 21, 22, 23, 24, 25, 26, 27, 28, 29, 30, 31, 32, 33]; expected [0, 1, 2, 3, 4, 5, 6, 7, 8, 9, 10, 11, 12, 13, 14, 15, 16, 17, 18, 19, 20, 21, 22, 23, 24, 25, 26, 27, 28, 29, 30, 31, 32, 33, 34]\n"
     ]
    }
   ],
   "source": [
    "exp_data = ExperimentDataLoader(\n",
    "    trialdata_file=\"rawtrialdata-anon.csv\"\n",
    ")\n",
    "summary_df = pd.read_json('./data/summary_df.json')\n",
    "all_participant_data = [p for p in exp_data.completed_participant_data() if p.sessionId in summary_df.sessionId.values]"
   ]
  },
  {
   "cell_type": "code",
   "execution_count": 4,
   "id": "0c2d3a86",
   "metadata": {},
   "outputs": [
    {
     "data": {
      "application/vnd.jupyter.widget-view+json": {
       "model_id": "9cb8795208354607ad5e67899cb0d9fd",
       "version_major": 2,
       "version_minor": 0
      },
      "text/plain": [
       "  0%|          | 0/200 [00:00<?, ?it/s]"
      ]
     },
     "metadata": {},
     "output_type": "display_data"
    },
    {
     "data": {
      "application/vnd.jupyter.widget-view+json": {
       "model_id": "b8d9f39a87194d3ea1869a0a9a719cf5",
       "version_major": 2,
       "version_minor": 0
      },
      "text/plain": [
       "  0%|          | 0/200 [00:00<?, ?it/s]"
      ]
     },
     "metadata": {},
     "output_type": "display_data"
    },
    {
     "data": {
      "application/vnd.jupyter.widget-view+json": {
       "model_id": "e1600f9b682b4c46a89e5aceaf06ed00",
       "version_major": 2,
       "version_minor": 0
      },
      "text/plain": [
       "  0%|          | 0/200 [00:00<?, ?it/s]"
      ]
     },
     "metadata": {},
     "output_type": "display_data"
    },
    {
     "data": {
      "application/vnd.jupyter.widget-view+json": {
       "model_id": "5244d4440fbb42089cf335007b6ed7e2",
       "version_major": 2,
       "version_minor": 0
      },
      "text/plain": [
       "  0%|          | 0/200 [00:00<?, ?it/s]"
      ]
     },
     "metadata": {},
     "output_type": "display_data"
    },
    {
     "data": {
      "application/vnd.jupyter.widget-view+json": {
       "model_id": "28990cd01c3640ebb6ef43d0f27ce9cd",
       "version_major": 2,
       "version_minor": 0
      },
      "text/plain": [
       "  0%|          | 0/200 [00:00<?, ?it/s]"
      ]
     },
     "metadata": {},
     "output_type": "display_data"
    },
    {
     "data": {
      "application/vnd.jupyter.widget-view+json": {
       "model_id": "2b1f38c532a74da8aece18a02f4b3362",
       "version_major": 2,
       "version_minor": 0
      },
      "text/plain": [
       "  0%|          | 0/200 [00:00<?, ?it/s]"
      ]
     },
     "metadata": {},
     "output_type": "display_data"
    },
    {
     "data": {
      "application/vnd.jupyter.widget-view+json": {
       "model_id": "2e6705c7edcf4f3bb215f3e41ed8fbe5",
       "version_major": 2,
       "version_minor": 0
      },
      "text/plain": [
       "  0%|          | 0/200 [00:00<?, ?it/s]"
      ]
     },
     "metadata": {},
     "output_type": "display_data"
    },
    {
     "data": {
      "application/vnd.jupyter.widget-view+json": {
       "model_id": "02da7cb0b7be4bb7986725d53536f11f",
       "version_major": 2,
       "version_minor": 0
      },
      "text/plain": [
       "  0%|          | 0/200 [00:00<?, ?it/s]"
      ]
     },
     "metadata": {},
     "output_type": "display_data"
    },
    {
     "data": {
      "application/vnd.jupyter.widget-view+json": {
       "model_id": "9e2c20993d3d4d8cbf445d3475746d3e",
       "version_major": 2,
       "version_minor": 0
      },
      "text/plain": [
       "  0%|          | 0/200 [00:00<?, ?it/s]"
      ]
     },
     "metadata": {},
     "output_type": "display_data"
    },
    {
     "data": {
      "application/vnd.jupyter.widget-view+json": {
       "model_id": "98543841634444308252ba05f69172a8",
       "version_major": 2,
       "version_minor": 0
      },
      "text/plain": [
       "  0%|          | 0/200 [00:00<?, ?it/s]"
      ]
     },
     "metadata": {},
     "output_type": "display_data"
    },
    {
     "data": {
      "application/vnd.jupyter.widget-view+json": {
       "model_id": "d7393cac8007420680f7a1abbfa9f34b",
       "version_major": 2,
       "version_minor": 0
      },
      "text/plain": [
       "  0%|          | 0/200 [00:00<?, ?it/s]"
      ]
     },
     "metadata": {},
     "output_type": "display_data"
    },
    {
     "data": {
      "application/vnd.jupyter.widget-view+json": {
       "model_id": "dc4fb37ecf45491e89619f89381efae2",
       "version_major": 2,
       "version_minor": 0
      },
      "text/plain": [
       "  0%|          | 0/200 [00:00<?, ?it/s]"
      ]
     },
     "metadata": {},
     "output_type": "display_data"
    }
   ],
   "source": [
    "fixed_params=dict(\n",
    "    construal_cost_weight=.0,\n",
    "    construal_set_stickiness=.0,\n",
    "    construal_inverse_temp=1.0,\n",
    "    action_inverse_temp=float('inf'),\n",
    "    action_random_choice=.1,\n",
    ")\n",
    "param_bounds = dict(\n",
    "    construal_set_stickiness=(0., 10.),\n",
    "    construal_cost_weight=(0., 10.),\n",
    "    construal_inverse_temp=(0., 10),\n",
    "    action_inverse_temp=(1e-2, 10),\n",
    "    action_random_choice=(.05, 1.), #we need to lower bound to avoid numerical issues\n",
    ")\n",
    "param_combos_to_fit = [\n",
    "    [\"action_random_choice\"],\n",
    "    [\"construal_cost_weight\", \"construal_set_stickiness\", \"action_random_choice\"],\n",
    "    [\"construal_set_stickiness\", \"action_random_choice\"],\n",
    "    [\"construal_cost_weight\", \"action_random_choice\"],\n",
    "]\n",
    "\n",
    "results = []\n",
    "rng = random.Random(61311)\n",
    "fitter = ModelFitter(all_participant_data)\n",
    "for params_to_fit in param_combos_to_fit:\n",
    "    fit_res = fitter.fit_params(\n",
    "        fixed_params={p: v for p, v in fixed_params.items() if p not in params_to_fit},\n",
    "        params_to_fit=params_to_fit,\n",
    "        param_bounds=param_bounds,\n",
    "        maxfun=200,\n",
    "        runs=3,\n",
    "        seed=rng.randint(0, int(1e7))\n",
    "    )\n",
    "    for i, res in enumerate(fit_res):\n",
    "        results.append({\n",
    "            \"run\": i,\n",
    "            **res.model_params,\n",
    "            **{'fit_'+p: True for p in params_to_fit},\n",
    "            'NLL': res.neg_log_like,\n",
    "        })"
   ]
  },
  {
   "cell_type": "code",
   "execution_count": 8,
   "id": "c6154475",
   "metadata": {},
   "outputs": [
    {
     "data": {
      "text/html": [
       "<div>\n",
       "<style scoped>\n",
       "    .dataframe tbody tr th:only-of-type {\n",
       "        vertical-align: middle;\n",
       "    }\n",
       "\n",
       "    .dataframe tbody tr th {\n",
       "        vertical-align: top;\n",
       "    }\n",
       "\n",
       "    .dataframe thead th {\n",
       "        text-align: right;\n",
       "    }\n",
       "</style>\n",
       "<table border=\"1\" class=\"dataframe\">\n",
       "  <thead>\n",
       "    <tr style=\"text-align: right;\">\n",
       "      <th></th>\n",
       "      <th>run</th>\n",
       "      <th>construal_cost_weight</th>\n",
       "      <th>construal_set_stickiness</th>\n",
       "      <th>construal_inverse_temp</th>\n",
       "      <th>action_inverse_temp</th>\n",
       "      <th>action_random_choice</th>\n",
       "      <th>fit_action_random_choice</th>\n",
       "      <th>NLL</th>\n",
       "      <th>fit_construal_cost_weight</th>\n",
       "      <th>fit_construal_set_stickiness</th>\n",
       "      <th>df</th>\n",
       "      <th>AIC</th>\n",
       "      <th>dAIC</th>\n",
       "    </tr>\n",
       "  </thead>\n",
       "  <tbody>\n",
       "    <tr>\n",
       "      <th>0</th>\n",
       "      <td>0</td>\n",
       "      <td>0.000000</td>\n",
       "      <td>0.0</td>\n",
       "      <td>1.0</td>\n",
       "      <td>inf</td>\n",
       "      <td>0.096484</td>\n",
       "      <td>True</td>\n",
       "      <td>95929.323918</td>\n",
       "      <td>NaN</td>\n",
       "      <td>NaN</td>\n",
       "      <td>1</td>\n",
       "      <td>95931.323918</td>\n",
       "      <td>239.432474</td>\n",
       "    </tr>\n",
       "    <tr>\n",
       "      <th>1</th>\n",
       "      <td>0</td>\n",
       "      <td>0.078727</td>\n",
       "      <td>0.0</td>\n",
       "      <td>1.0</td>\n",
       "      <td>inf</td>\n",
       "      <td>0.096485</td>\n",
       "      <td>True</td>\n",
       "      <td>95926.342563</td>\n",
       "      <td>True</td>\n",
       "      <td>NaN</td>\n",
       "      <td>2</td>\n",
       "      <td>95930.342563</td>\n",
       "      <td>238.451119</td>\n",
       "    </tr>\n",
       "    <tr>\n",
       "      <th>2</th>\n",
       "      <td>0</td>\n",
       "      <td>0.000000</td>\n",
       "      <td>10.0</td>\n",
       "      <td>1.0</td>\n",
       "      <td>inf</td>\n",
       "      <td>0.096215</td>\n",
       "      <td>True</td>\n",
       "      <td>95758.436889</td>\n",
       "      <td>NaN</td>\n",
       "      <td>True</td>\n",
       "      <td>2</td>\n",
       "      <td>95762.436889</td>\n",
       "      <td>70.545445</td>\n",
       "    </tr>\n",
       "    <tr>\n",
       "      <th>3</th>\n",
       "      <td>0</td>\n",
       "      <td>0.642017</td>\n",
       "      <td>10.0</td>\n",
       "      <td>1.0</td>\n",
       "      <td>inf</td>\n",
       "      <td>0.096034</td>\n",
       "      <td>True</td>\n",
       "      <td>95685.891443</td>\n",
       "      <td>True</td>\n",
       "      <td>True</td>\n",
       "      <td>3</td>\n",
       "      <td>95691.891443</td>\n",
       "      <td>0.000000</td>\n",
       "    </tr>\n",
       "  </tbody>\n",
       "</table>\n",
       "</div>"
      ],
      "text/plain": [
       "   run  construal_cost_weight  construal_set_stickiness  \\\n",
       "0    0               0.000000                       0.0   \n",
       "1    0               0.078727                       0.0   \n",
       "2    0               0.000000                      10.0   \n",
       "3    0               0.642017                      10.0   \n",
       "\n",
       "   construal_inverse_temp  action_inverse_temp  action_random_choice  \\\n",
       "0                     1.0                  inf              0.096484   \n",
       "1                     1.0                  inf              0.096485   \n",
       "2                     1.0                  inf              0.096215   \n",
       "3                     1.0                  inf              0.096034   \n",
       "\n",
       "   fit_action_random_choice           NLL fit_construal_cost_weight  \\\n",
       "0                      True  95929.323918                       NaN   \n",
       "1                      True  95926.342563                      True   \n",
       "2                      True  95758.436889                       NaN   \n",
       "3                      True  95685.891443                      True   \n",
       "\n",
       "  fit_construal_set_stickiness  df           AIC        dAIC  \n",
       "0                          NaN   1  95931.323918  239.432474  \n",
       "1                          NaN   2  95930.342563  238.451119  \n",
       "2                         True   2  95762.436889   70.545445  \n",
       "3                         True   3  95691.891443    0.000000  "
      ]
     },
     "execution_count": 8,
     "metadata": {},
     "output_type": "execute_result"
    }
   ],
   "source": [
    "import pandas as pd\n",
    "res_df = pd.DataFrame(results)\n",
    "res_df['df'] = res_df[['fit_construal_cost_weight', 'fit_construal_set_stickiness', 'fit_action_random_choice']].apply(lambda r: sum([t == True for t in r]), axis=1)\n",
    "res_df['AIC'] = res_df.apply(lambda r: 2*r['df'] + r['NLL'], axis=1)\n",
    "res_df['dAIC'] = res_df['AIC'] - res_df['AIC'].min()\n",
    "optimal_results = res_df.loc[[0, 9, 6, 3]].reset_index(drop=True)\n",
    "optimal_results"
   ]
  },
  {
   "cell_type": "code",
   "execution_count": 9,
   "id": "754dbb6c",
   "metadata": {},
   "outputs": [],
   "source": [
    "optimal_results.to_pickle('./data/model_fits.pkl')"
   ]
  }
 ],
 "metadata": {
  "kernelspec": {
   "display_name": "Python 3 (ipykernel)",
   "language": "python",
   "name": "python3"
  },
  "language_info": {
   "codemirror_mode": {
    "name": "ipython",
    "version": 3
   },
   "file_extension": ".py",
   "mimetype": "text/x-python",
   "name": "python",
   "nbconvert_exporter": "python",
   "pygments_lexer": "ipython3",
   "version": "3.7.4"
  }
 },
 "nbformat": 4,
 "nbformat_minor": 5
}
